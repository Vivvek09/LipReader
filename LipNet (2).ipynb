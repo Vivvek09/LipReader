{
 "cells": [
  {
   "cell_type": "code",
   "execution_count": 1,
   "id": "d5fed27b-9ee8-42ce-a001-78059f1d8e96",
   "metadata": {},
   "outputs": [
    {
     "name": "stdout",
     "output_type": "stream",
     "text": [
      "Requirement already satisfied: opencv-python in c:\\users\\vivek\\anaconda3\\lib\\site-packages (4.10.0.84)\n",
      "Requirement already satisfied: matplotlib in c:\\users\\vivek\\anaconda3\\lib\\site-packages (3.8.0)\n",
      "Requirement already satisfied: imageio in c:\\users\\vivek\\anaconda3\\lib\\site-packages (2.33.1)\n",
      "Requirement already satisfied: gdown in c:\\users\\vivek\\anaconda3\\lib\\site-packages (5.2.0)\n",
      "Requirement already satisfied: tensorflow in c:\\users\\vivek\\anaconda3\\lib\\site-packages (2.16.1)\n",
      "Requirement already satisfied: numpy>=1.21.2 in c:\\users\\vivek\\anaconda3\\lib\\site-packages (from opencv-python) (1.26.4)\n",
      "Requirement already satisfied: contourpy>=1.0.1 in c:\\users\\vivek\\anaconda3\\lib\\site-packages (from matplotlib) (1.2.0)\n",
      "Requirement already satisfied: cycler>=0.10 in c:\\users\\vivek\\anaconda3\\lib\\site-packages (from matplotlib) (0.11.0)\n",
      "Requirement already satisfied: fonttools>=4.22.0 in c:\\users\\vivek\\anaconda3\\lib\\site-packages (from matplotlib) (4.25.0)\n",
      "Requirement already satisfied: kiwisolver>=1.0.1 in c:\\users\\vivek\\anaconda3\\lib\\site-packages (from matplotlib) (1.4.4)\n",
      "Requirement already satisfied: packaging>=20.0 in c:\\users\\vivek\\anaconda3\\lib\\site-packages (from matplotlib) (23.1)\n",
      "Requirement already satisfied: pillow>=6.2.0 in c:\\users\\vivek\\anaconda3\\lib\\site-packages (from matplotlib) (10.2.0)\n",
      "Requirement already satisfied: pyparsing>=2.3.1 in c:\\users\\vivek\\anaconda3\\lib\\site-packages (from matplotlib) (3.0.9)\n",
      "Requirement already satisfied: python-dateutil>=2.7 in c:\\users\\vivek\\anaconda3\\lib\\site-packages (from matplotlib) (2.8.2)\n",
      "Requirement already satisfied: beautifulsoup4 in c:\\users\\vivek\\anaconda3\\lib\\site-packages (from gdown) (4.12.2)\n",
      "Requirement already satisfied: filelock in c:\\users\\vivek\\anaconda3\\lib\\site-packages (from gdown) (3.13.1)\n",
      "Requirement already satisfied: requests[socks] in c:\\users\\vivek\\anaconda3\\lib\\site-packages (from gdown) (2.31.0)\n",
      "Requirement already satisfied: tqdm in c:\\users\\vivek\\anaconda3\\lib\\site-packages (from gdown) (4.65.0)\n",
      "Requirement already satisfied: tensorflow-intel==2.16.1 in c:\\users\\vivek\\anaconda3\\lib\\site-packages (from tensorflow) (2.16.1)\n",
      "Requirement already satisfied: absl-py>=1.0.0 in c:\\users\\vivek\\anaconda3\\lib\\site-packages (from tensorflow-intel==2.16.1->tensorflow) (2.1.0)\n",
      "Requirement already satisfied: astunparse>=1.6.0 in c:\\users\\vivek\\anaconda3\\lib\\site-packages (from tensorflow-intel==2.16.1->tensorflow) (1.6.3)\n",
      "Requirement already satisfied: flatbuffers>=23.5.26 in c:\\users\\vivek\\anaconda3\\lib\\site-packages (from tensorflow-intel==2.16.1->tensorflow) (24.3.25)\n",
      "Requirement already satisfied: gast!=0.5.0,!=0.5.1,!=0.5.2,>=0.2.1 in c:\\users\\vivek\\anaconda3\\lib\\site-packages (from tensorflow-intel==2.16.1->tensorflow) (0.5.4)\n",
      "Requirement already satisfied: google-pasta>=0.1.1 in c:\\users\\vivek\\anaconda3\\lib\\site-packages (from tensorflow-intel==2.16.1->tensorflow) (0.2.0)\n",
      "Requirement already satisfied: h5py>=3.10.0 in c:\\users\\vivek\\anaconda3\\lib\\site-packages (from tensorflow-intel==2.16.1->tensorflow) (3.11.0)\n",
      "Requirement already satisfied: libclang>=13.0.0 in c:\\users\\vivek\\anaconda3\\lib\\site-packages (from tensorflow-intel==2.16.1->tensorflow) (18.1.1)\n",
      "Requirement already satisfied: ml-dtypes~=0.3.1 in c:\\users\\vivek\\anaconda3\\lib\\site-packages (from tensorflow-intel==2.16.1->tensorflow) (0.3.2)\n",
      "Requirement already satisfied: opt-einsum>=2.3.2 in c:\\users\\vivek\\anaconda3\\lib\\site-packages (from tensorflow-intel==2.16.1->tensorflow) (3.3.0)\n",
      "Requirement already satisfied: protobuf!=4.21.0,!=4.21.1,!=4.21.2,!=4.21.3,!=4.21.4,!=4.21.5,<5.0.0dev,>=3.20.3 in c:\\users\\vivek\\anaconda3\\lib\\site-packages (from tensorflow-intel==2.16.1->tensorflow) (4.25.3)\n",
      "Requirement already satisfied: setuptools in c:\\users\\vivek\\anaconda3\\lib\\site-packages (from tensorflow-intel==2.16.1->tensorflow) (68.2.2)\n",
      "Requirement already satisfied: six>=1.12.0 in c:\\users\\vivek\\anaconda3\\lib\\site-packages (from tensorflow-intel==2.16.1->tensorflow) (1.16.0)\n",
      "Requirement already satisfied: termcolor>=1.1.0 in c:\\users\\vivek\\anaconda3\\lib\\site-packages (from tensorflow-intel==2.16.1->tensorflow) (2.4.0)\n",
      "Requirement already satisfied: typing-extensions>=3.6.6 in c:\\users\\vivek\\anaconda3\\lib\\site-packages (from tensorflow-intel==2.16.1->tensorflow) (4.11.0)\n",
      "Requirement already satisfied: wrapt>=1.11.0 in c:\\users\\vivek\\anaconda3\\lib\\site-packages (from tensorflow-intel==2.16.1->tensorflow) (1.14.1)\n",
      "Requirement already satisfied: grpcio<2.0,>=1.24.3 in c:\\users\\vivek\\anaconda3\\lib\\site-packages (from tensorflow-intel==2.16.1->tensorflow) (1.62.2)\n",
      "Requirement already satisfied: tensorboard<2.17,>=2.16 in c:\\users\\vivek\\anaconda3\\lib\\site-packages (from tensorflow-intel==2.16.1->tensorflow) (2.16.2)\n",
      "Requirement already satisfied: keras>=3.0.0 in c:\\users\\vivek\\anaconda3\\lib\\site-packages (from tensorflow-intel==2.16.1->tensorflow) (3.2.1)\n",
      "Requirement already satisfied: tensorflow-io-gcs-filesystem>=0.23.1 in c:\\users\\vivek\\anaconda3\\lib\\site-packages (from tensorflow-intel==2.16.1->tensorflow) (0.31.0)\n",
      "Requirement already satisfied: soupsieve>1.2 in c:\\users\\vivek\\anaconda3\\lib\\site-packages (from beautifulsoup4->gdown) (2.5)\n",
      "Requirement already satisfied: charset-normalizer<4,>=2 in c:\\users\\vivek\\anaconda3\\lib\\site-packages (from requests[socks]->gdown) (2.0.4)\n",
      "Requirement already satisfied: idna<4,>=2.5 in c:\\users\\vivek\\anaconda3\\lib\\site-packages (from requests[socks]->gdown) (2.10)\n",
      "Requirement already satisfied: urllib3<3,>=1.21.1 in c:\\users\\vivek\\anaconda3\\lib\\site-packages (from requests[socks]->gdown) (2.0.7)\n",
      "Requirement already satisfied: certifi>=2017.4.17 in c:\\users\\vivek\\anaconda3\\lib\\site-packages (from requests[socks]->gdown) (2024.2.2)\n",
      "Requirement already satisfied: PySocks!=1.5.7,>=1.5.6 in c:\\users\\vivek\\anaconda3\\lib\\site-packages (from requests[socks]->gdown) (1.7.1)\n",
      "Requirement already satisfied: colorama in c:\\users\\vivek\\anaconda3\\lib\\site-packages (from tqdm->gdown) (0.4.6)\n",
      "Requirement already satisfied: wheel<1.0,>=0.23.0 in c:\\users\\vivek\\anaconda3\\lib\\site-packages (from astunparse>=1.6.0->tensorflow-intel==2.16.1->tensorflow) (0.41.2)\n",
      "Requirement already satisfied: rich in c:\\users\\vivek\\anaconda3\\lib\\site-packages (from keras>=3.0.0->tensorflow-intel==2.16.1->tensorflow) (13.3.5)\n",
      "Requirement already satisfied: namex in c:\\users\\vivek\\anaconda3\\lib\\site-packages (from keras>=3.0.0->tensorflow-intel==2.16.1->tensorflow) (0.0.8)\n",
      "Requirement already satisfied: optree in c:\\users\\vivek\\anaconda3\\lib\\site-packages (from keras>=3.0.0->tensorflow-intel==2.16.1->tensorflow) (0.11.0)\n",
      "Requirement already satisfied: markdown>=2.6.8 in c:\\users\\vivek\\anaconda3\\lib\\site-packages (from tensorboard<2.17,>=2.16->tensorflow-intel==2.16.1->tensorflow) (3.4.1)\n",
      "Requirement already satisfied: tensorboard-data-server<0.8.0,>=0.7.0 in c:\\users\\vivek\\anaconda3\\lib\\site-packages (from tensorboard<2.17,>=2.16->tensorflow-intel==2.16.1->tensorflow) (0.7.2)\n",
      "Requirement already satisfied: werkzeug>=1.0.1 in c:\\users\\vivek\\anaconda3\\lib\\site-packages (from tensorboard<2.17,>=2.16->tensorflow-intel==2.16.1->tensorflow) (2.2.3)\n",
      "Requirement already satisfied: MarkupSafe>=2.1.1 in c:\\users\\vivek\\anaconda3\\lib\\site-packages (from werkzeug>=1.0.1->tensorboard<2.17,>=2.16->tensorflow-intel==2.16.1->tensorflow) (2.1.3)\n",
      "Requirement already satisfied: markdown-it-py<3.0.0,>=2.2.0 in c:\\users\\vivek\\anaconda3\\lib\\site-packages (from rich->keras>=3.0.0->tensorflow-intel==2.16.1->tensorflow) (2.2.0)\n",
      "Requirement already satisfied: pygments<3.0.0,>=2.13.0 in c:\\users\\vivek\\anaconda3\\lib\\site-packages (from rich->keras>=3.0.0->tensorflow-intel==2.16.1->tensorflow) (2.15.1)\n",
      "Requirement already satisfied: mdurl~=0.1 in c:\\users\\vivek\\anaconda3\\lib\\site-packages (from markdown-it-py<3.0.0,>=2.2.0->rich->keras>=3.0.0->tensorflow-intel==2.16.1->tensorflow) (0.1.0)\n"
     ]
    }
   ],
   "source": [
    "!pip install opencv-python matplotlib imageio gdown tensorflow"
   ]
  },
  {
   "cell_type": "code",
   "execution_count": 5,
   "id": "66ff41aa-fd65-4660-95de-ac1f23e45fe3",
   "metadata": {},
   "outputs": [],
   "source": [
    "import os\n",
    "import cv2\n",
    "import tensorflow as tf\n",
    "import numpy as np\n",
    "from typing import List\n",
    "from matplotlib import pyplot as plt\n",
    "import imageio"
   ]
  },
  {
   "cell_type": "code",
   "execution_count": 6,
   "id": "e41fc390-d4bd-4506-93d1-ae82416cbe93",
   "metadata": {},
   "outputs": [
    {
     "data": {
      "text/plain": [
       "[]"
      ]
     },
     "execution_count": 6,
     "metadata": {},
     "output_type": "execute_result"
    }
   ],
   "source": [
    "tf.config.list_physical_devices('GPU')"
   ]
  },
  {
   "cell_type": "markdown",
   "id": "0bf4c4f0-84b2-4a62-8b51-b3887d1ba44c",
   "metadata": {},
   "source": [
    "DATA LOADING FUNCTIONS"
   ]
  },
  {
   "cell_type": "code",
   "execution_count": 4,
   "id": "7ec8ca0f-3a67-48cd-8754-57bda7068ca8",
   "metadata": {},
   "outputs": [],
   "source": [
    "import gdown"
   ]
  },
  {
   "cell_type": "code",
   "execution_count": 5,
   "id": "6360c656-2aab-4440-868c-2efe77ac0af1",
   "metadata": {},
   "outputs": [
    {
     "name": "stderr",
     "output_type": "stream",
     "text": [
      "Downloading...\n",
      "From (original): https://drive.google.com/uc?id=1YlvpDLix3S-U8fd-gqRwPcWXAXm8JwjL\n",
      "From (redirected): https://drive.google.com/uc?id=1YlvpDLix3S-U8fd-gqRwPcWXAXm8JwjL&confirm=t&uuid=22e2d82f-a541-461c-b852-e084030a0cca\n",
      "To: C:\\Users\\vivek\\data.zip\n",
      " 21%|████████████████▏                                                             | 88.1M/423M [00:09<00:32, 10.3MB/s]"
     ]
    },
    {
     "ename": "KeyboardInterrupt",
     "evalue": "",
     "output_type": "error",
     "traceback": [
      "\u001b[1;31m---------------------------------------------------------------------------\u001b[0m",
      "\u001b[1;31mKeyboardInterrupt\u001b[0m                         Traceback (most recent call last)",
      "Cell \u001b[1;32mIn[5], line 3\u001b[0m\n\u001b[0;32m      1\u001b[0m url \u001b[38;5;241m=\u001b[39m \u001b[38;5;124m'\u001b[39m\u001b[38;5;124mhttps://drive.google.com/uc?id=1YlvpDLix3S-U8fd-gqRwPcWXAXm8JwjL\u001b[39m\u001b[38;5;124m'\u001b[39m\n\u001b[0;32m      2\u001b[0m output \u001b[38;5;241m=\u001b[39m \u001b[38;5;124m'\u001b[39m\u001b[38;5;124mdata.zip\u001b[39m\u001b[38;5;124m'\u001b[39m\n\u001b[1;32m----> 3\u001b[0m gdown\u001b[38;5;241m.\u001b[39mdownload(url, output, quiet\u001b[38;5;241m=\u001b[39m\u001b[38;5;28;01mFalse\u001b[39;00m)\n\u001b[0;32m      4\u001b[0m gdown\u001b[38;5;241m.\u001b[39mextractall(\u001b[38;5;124m'\u001b[39m\u001b[38;5;124mdata.zip\u001b[39m\u001b[38;5;124m'\u001b[39m)\n",
      "File \u001b[1;32m~\\anaconda3\\Lib\\site-packages\\gdown\\download.py:368\u001b[0m, in \u001b[0;36mdownload\u001b[1;34m(url, output, quiet, proxy, speed, use_cookies, verify, id, fuzzy, resume, format, user_agent, log_messages)\u001b[0m\n\u001b[0;32m    366\u001b[0m     pbar \u001b[38;5;241m=\u001b[39m tqdm\u001b[38;5;241m.\u001b[39mtqdm(total\u001b[38;5;241m=\u001b[39mtotal, unit\u001b[38;5;241m=\u001b[39m\u001b[38;5;124m\"\u001b[39m\u001b[38;5;124mB\u001b[39m\u001b[38;5;124m\"\u001b[39m, initial\u001b[38;5;241m=\u001b[39mstart_size, unit_scale\u001b[38;5;241m=\u001b[39m\u001b[38;5;28;01mTrue\u001b[39;00m)\n\u001b[0;32m    367\u001b[0m t_start \u001b[38;5;241m=\u001b[39m time\u001b[38;5;241m.\u001b[39mtime()\n\u001b[1;32m--> 368\u001b[0m \u001b[38;5;28;01mfor\u001b[39;00m chunk \u001b[38;5;129;01min\u001b[39;00m res\u001b[38;5;241m.\u001b[39miter_content(chunk_size\u001b[38;5;241m=\u001b[39mCHUNK_SIZE):\n\u001b[0;32m    369\u001b[0m     f\u001b[38;5;241m.\u001b[39mwrite(chunk)\n\u001b[0;32m    370\u001b[0m     \u001b[38;5;28;01mif\u001b[39;00m \u001b[38;5;129;01mnot\u001b[39;00m quiet:\n",
      "File \u001b[1;32m~\\anaconda3\\Lib\\site-packages\\requests\\models.py:816\u001b[0m, in \u001b[0;36mResponse.iter_content.<locals>.generate\u001b[1;34m()\u001b[0m\n\u001b[0;32m    814\u001b[0m \u001b[38;5;28;01mif\u001b[39;00m \u001b[38;5;28mhasattr\u001b[39m(\u001b[38;5;28mself\u001b[39m\u001b[38;5;241m.\u001b[39mraw, \u001b[38;5;124m\"\u001b[39m\u001b[38;5;124mstream\u001b[39m\u001b[38;5;124m\"\u001b[39m):\n\u001b[0;32m    815\u001b[0m     \u001b[38;5;28;01mtry\u001b[39;00m:\n\u001b[1;32m--> 816\u001b[0m         \u001b[38;5;28;01myield from\u001b[39;00m \u001b[38;5;28mself\u001b[39m\u001b[38;5;241m.\u001b[39mraw\u001b[38;5;241m.\u001b[39mstream(chunk_size, decode_content\u001b[38;5;241m=\u001b[39m\u001b[38;5;28;01mTrue\u001b[39;00m)\n\u001b[0;32m    817\u001b[0m     \u001b[38;5;28;01mexcept\u001b[39;00m ProtocolError \u001b[38;5;28;01mas\u001b[39;00m e:\n\u001b[0;32m    818\u001b[0m         \u001b[38;5;28;01mraise\u001b[39;00m ChunkedEncodingError(e)\n",
      "File \u001b[1;32m~\\anaconda3\\Lib\\site-packages\\urllib3\\response.py:1043\u001b[0m, in \u001b[0;36mHTTPResponse.stream\u001b[1;34m(self, amt, decode_content)\u001b[0m\n\u001b[0;32m   1041\u001b[0m \u001b[38;5;28;01melse\u001b[39;00m:\n\u001b[0;32m   1042\u001b[0m     \u001b[38;5;28;01mwhile\u001b[39;00m \u001b[38;5;129;01mnot\u001b[39;00m is_fp_closed(\u001b[38;5;28mself\u001b[39m\u001b[38;5;241m.\u001b[39m_fp) \u001b[38;5;129;01mor\u001b[39;00m \u001b[38;5;28mlen\u001b[39m(\u001b[38;5;28mself\u001b[39m\u001b[38;5;241m.\u001b[39m_decoded_buffer) \u001b[38;5;241m>\u001b[39m \u001b[38;5;241m0\u001b[39m:\n\u001b[1;32m-> 1043\u001b[0m         data \u001b[38;5;241m=\u001b[39m \u001b[38;5;28mself\u001b[39m\u001b[38;5;241m.\u001b[39mread(amt\u001b[38;5;241m=\u001b[39mamt, decode_content\u001b[38;5;241m=\u001b[39mdecode_content)\n\u001b[0;32m   1045\u001b[0m         \u001b[38;5;28;01mif\u001b[39;00m data:\n\u001b[0;32m   1046\u001b[0m             \u001b[38;5;28;01myield\u001b[39;00m data\n",
      "File \u001b[1;32m~\\anaconda3\\Lib\\site-packages\\urllib3\\response.py:935\u001b[0m, in \u001b[0;36mHTTPResponse.read\u001b[1;34m(self, amt, decode_content, cache_content)\u001b[0m\n\u001b[0;32m    932\u001b[0m     \u001b[38;5;28;01mif\u001b[39;00m \u001b[38;5;28mlen\u001b[39m(\u001b[38;5;28mself\u001b[39m\u001b[38;5;241m.\u001b[39m_decoded_buffer) \u001b[38;5;241m>\u001b[39m\u001b[38;5;241m=\u001b[39m amt:\n\u001b[0;32m    933\u001b[0m         \u001b[38;5;28;01mreturn\u001b[39;00m \u001b[38;5;28mself\u001b[39m\u001b[38;5;241m.\u001b[39m_decoded_buffer\u001b[38;5;241m.\u001b[39mget(amt)\n\u001b[1;32m--> 935\u001b[0m data \u001b[38;5;241m=\u001b[39m \u001b[38;5;28mself\u001b[39m\u001b[38;5;241m.\u001b[39m_raw_read(amt)\n\u001b[0;32m    937\u001b[0m flush_decoder \u001b[38;5;241m=\u001b[39m amt \u001b[38;5;129;01mis\u001b[39;00m \u001b[38;5;28;01mNone\u001b[39;00m \u001b[38;5;129;01mor\u001b[39;00m (amt \u001b[38;5;241m!=\u001b[39m \u001b[38;5;241m0\u001b[39m \u001b[38;5;129;01mand\u001b[39;00m \u001b[38;5;129;01mnot\u001b[39;00m data)\n\u001b[0;32m    939\u001b[0m \u001b[38;5;28;01mif\u001b[39;00m \u001b[38;5;129;01mnot\u001b[39;00m data \u001b[38;5;129;01mand\u001b[39;00m \u001b[38;5;28mlen\u001b[39m(\u001b[38;5;28mself\u001b[39m\u001b[38;5;241m.\u001b[39m_decoded_buffer) \u001b[38;5;241m==\u001b[39m \u001b[38;5;241m0\u001b[39m:\n",
      "File \u001b[1;32m~\\anaconda3\\Lib\\site-packages\\urllib3\\response.py:862\u001b[0m, in \u001b[0;36mHTTPResponse._raw_read\u001b[1;34m(self, amt, read1)\u001b[0m\n\u001b[0;32m    859\u001b[0m fp_closed \u001b[38;5;241m=\u001b[39m \u001b[38;5;28mgetattr\u001b[39m(\u001b[38;5;28mself\u001b[39m\u001b[38;5;241m.\u001b[39m_fp, \u001b[38;5;124m\"\u001b[39m\u001b[38;5;124mclosed\u001b[39m\u001b[38;5;124m\"\u001b[39m, \u001b[38;5;28;01mFalse\u001b[39;00m)\n\u001b[0;32m    861\u001b[0m \u001b[38;5;28;01mwith\u001b[39;00m \u001b[38;5;28mself\u001b[39m\u001b[38;5;241m.\u001b[39m_error_catcher():\n\u001b[1;32m--> 862\u001b[0m     data \u001b[38;5;241m=\u001b[39m \u001b[38;5;28mself\u001b[39m\u001b[38;5;241m.\u001b[39m_fp_read(amt, read1\u001b[38;5;241m=\u001b[39mread1) \u001b[38;5;28;01mif\u001b[39;00m \u001b[38;5;129;01mnot\u001b[39;00m fp_closed \u001b[38;5;28;01melse\u001b[39;00m \u001b[38;5;124mb\u001b[39m\u001b[38;5;124m\"\u001b[39m\u001b[38;5;124m\"\u001b[39m\n\u001b[0;32m    863\u001b[0m     \u001b[38;5;28;01mif\u001b[39;00m amt \u001b[38;5;129;01mis\u001b[39;00m \u001b[38;5;129;01mnot\u001b[39;00m \u001b[38;5;28;01mNone\u001b[39;00m \u001b[38;5;129;01mand\u001b[39;00m amt \u001b[38;5;241m!=\u001b[39m \u001b[38;5;241m0\u001b[39m \u001b[38;5;129;01mand\u001b[39;00m \u001b[38;5;129;01mnot\u001b[39;00m data:\n\u001b[0;32m    864\u001b[0m         \u001b[38;5;66;03m# Platform-specific: Buggy versions of Python.\u001b[39;00m\n\u001b[0;32m    865\u001b[0m         \u001b[38;5;66;03m# Close the connection when no data is returned\u001b[39;00m\n\u001b[1;32m   (...)\u001b[0m\n\u001b[0;32m    870\u001b[0m         \u001b[38;5;66;03m# not properly close the connection in all cases. There is\u001b[39;00m\n\u001b[0;32m    871\u001b[0m         \u001b[38;5;66;03m# no harm in redundantly calling close.\u001b[39;00m\n\u001b[0;32m    872\u001b[0m         \u001b[38;5;28mself\u001b[39m\u001b[38;5;241m.\u001b[39m_fp\u001b[38;5;241m.\u001b[39mclose()\n",
      "File \u001b[1;32m~\\anaconda3\\Lib\\site-packages\\urllib3\\response.py:845\u001b[0m, in \u001b[0;36mHTTPResponse._fp_read\u001b[1;34m(self, amt, read1)\u001b[0m\n\u001b[0;32m    842\u001b[0m     \u001b[38;5;28;01mreturn\u001b[39;00m \u001b[38;5;28mself\u001b[39m\u001b[38;5;241m.\u001b[39m_fp\u001b[38;5;241m.\u001b[39mread1(amt) \u001b[38;5;28;01mif\u001b[39;00m amt \u001b[38;5;129;01mis\u001b[39;00m \u001b[38;5;129;01mnot\u001b[39;00m \u001b[38;5;28;01mNone\u001b[39;00m \u001b[38;5;28;01melse\u001b[39;00m \u001b[38;5;28mself\u001b[39m\u001b[38;5;241m.\u001b[39m_fp\u001b[38;5;241m.\u001b[39mread1()\n\u001b[0;32m    843\u001b[0m \u001b[38;5;28;01melse\u001b[39;00m:\n\u001b[0;32m    844\u001b[0m     \u001b[38;5;66;03m# StringIO doesn't like amt=None\u001b[39;00m\n\u001b[1;32m--> 845\u001b[0m     \u001b[38;5;28;01mreturn\u001b[39;00m \u001b[38;5;28mself\u001b[39m\u001b[38;5;241m.\u001b[39m_fp\u001b[38;5;241m.\u001b[39mread(amt) \u001b[38;5;28;01mif\u001b[39;00m amt \u001b[38;5;129;01mis\u001b[39;00m \u001b[38;5;129;01mnot\u001b[39;00m \u001b[38;5;28;01mNone\u001b[39;00m \u001b[38;5;28;01melse\u001b[39;00m \u001b[38;5;28mself\u001b[39m\u001b[38;5;241m.\u001b[39m_fp\u001b[38;5;241m.\u001b[39mread()\n",
      "File \u001b[1;32m~\\anaconda3\\Lib\\http\\client.py:473\u001b[0m, in \u001b[0;36mHTTPResponse.read\u001b[1;34m(self, amt)\u001b[0m\n\u001b[0;32m    470\u001b[0m \u001b[38;5;28;01mif\u001b[39;00m \u001b[38;5;28mself\u001b[39m\u001b[38;5;241m.\u001b[39mlength \u001b[38;5;129;01mis\u001b[39;00m \u001b[38;5;129;01mnot\u001b[39;00m \u001b[38;5;28;01mNone\u001b[39;00m \u001b[38;5;129;01mand\u001b[39;00m amt \u001b[38;5;241m>\u001b[39m \u001b[38;5;28mself\u001b[39m\u001b[38;5;241m.\u001b[39mlength:\n\u001b[0;32m    471\u001b[0m     \u001b[38;5;66;03m# clip the read to the \"end of response\"\u001b[39;00m\n\u001b[0;32m    472\u001b[0m     amt \u001b[38;5;241m=\u001b[39m \u001b[38;5;28mself\u001b[39m\u001b[38;5;241m.\u001b[39mlength\n\u001b[1;32m--> 473\u001b[0m s \u001b[38;5;241m=\u001b[39m \u001b[38;5;28mself\u001b[39m\u001b[38;5;241m.\u001b[39mfp\u001b[38;5;241m.\u001b[39mread(amt)\n\u001b[0;32m    474\u001b[0m \u001b[38;5;28;01mif\u001b[39;00m \u001b[38;5;129;01mnot\u001b[39;00m s \u001b[38;5;129;01mand\u001b[39;00m amt:\n\u001b[0;32m    475\u001b[0m     \u001b[38;5;66;03m# Ideally, we would raise IncompleteRead if the content-length\u001b[39;00m\n\u001b[0;32m    476\u001b[0m     \u001b[38;5;66;03m# wasn't satisfied, but it might break compatibility.\u001b[39;00m\n\u001b[0;32m    477\u001b[0m     \u001b[38;5;28mself\u001b[39m\u001b[38;5;241m.\u001b[39m_close_conn()\n",
      "File \u001b[1;32m~\\anaconda3\\Lib\\socket.py:706\u001b[0m, in \u001b[0;36mSocketIO.readinto\u001b[1;34m(self, b)\u001b[0m\n\u001b[0;32m    704\u001b[0m \u001b[38;5;28;01mwhile\u001b[39;00m \u001b[38;5;28;01mTrue\u001b[39;00m:\n\u001b[0;32m    705\u001b[0m     \u001b[38;5;28;01mtry\u001b[39;00m:\n\u001b[1;32m--> 706\u001b[0m         \u001b[38;5;28;01mreturn\u001b[39;00m \u001b[38;5;28mself\u001b[39m\u001b[38;5;241m.\u001b[39m_sock\u001b[38;5;241m.\u001b[39mrecv_into(b)\n\u001b[0;32m    707\u001b[0m     \u001b[38;5;28;01mexcept\u001b[39;00m timeout:\n\u001b[0;32m    708\u001b[0m         \u001b[38;5;28mself\u001b[39m\u001b[38;5;241m.\u001b[39m_timeout_occurred \u001b[38;5;241m=\u001b[39m \u001b[38;5;28;01mTrue\u001b[39;00m\n",
      "File \u001b[1;32m~\\anaconda3\\Lib\\ssl.py:1315\u001b[0m, in \u001b[0;36mSSLSocket.recv_into\u001b[1;34m(self, buffer, nbytes, flags)\u001b[0m\n\u001b[0;32m   1311\u001b[0m     \u001b[38;5;28;01mif\u001b[39;00m flags \u001b[38;5;241m!=\u001b[39m \u001b[38;5;241m0\u001b[39m:\n\u001b[0;32m   1312\u001b[0m         \u001b[38;5;28;01mraise\u001b[39;00m \u001b[38;5;167;01mValueError\u001b[39;00m(\n\u001b[0;32m   1313\u001b[0m           \u001b[38;5;124m\"\u001b[39m\u001b[38;5;124mnon-zero flags not allowed in calls to recv_into() on \u001b[39m\u001b[38;5;132;01m%s\u001b[39;00m\u001b[38;5;124m\"\u001b[39m \u001b[38;5;241m%\u001b[39m\n\u001b[0;32m   1314\u001b[0m           \u001b[38;5;28mself\u001b[39m\u001b[38;5;241m.\u001b[39m\u001b[38;5;18m__class__\u001b[39m)\n\u001b[1;32m-> 1315\u001b[0m     \u001b[38;5;28;01mreturn\u001b[39;00m \u001b[38;5;28mself\u001b[39m\u001b[38;5;241m.\u001b[39mread(nbytes, buffer)\n\u001b[0;32m   1316\u001b[0m \u001b[38;5;28;01melse\u001b[39;00m:\n\u001b[0;32m   1317\u001b[0m     \u001b[38;5;28;01mreturn\u001b[39;00m \u001b[38;5;28msuper\u001b[39m()\u001b[38;5;241m.\u001b[39mrecv_into(buffer, nbytes, flags)\n",
      "File \u001b[1;32m~\\anaconda3\\Lib\\ssl.py:1167\u001b[0m, in \u001b[0;36mSSLSocket.read\u001b[1;34m(self, len, buffer)\u001b[0m\n\u001b[0;32m   1165\u001b[0m \u001b[38;5;28;01mtry\u001b[39;00m:\n\u001b[0;32m   1166\u001b[0m     \u001b[38;5;28;01mif\u001b[39;00m buffer \u001b[38;5;129;01mis\u001b[39;00m \u001b[38;5;129;01mnot\u001b[39;00m \u001b[38;5;28;01mNone\u001b[39;00m:\n\u001b[1;32m-> 1167\u001b[0m         \u001b[38;5;28;01mreturn\u001b[39;00m \u001b[38;5;28mself\u001b[39m\u001b[38;5;241m.\u001b[39m_sslobj\u001b[38;5;241m.\u001b[39mread(\u001b[38;5;28mlen\u001b[39m, buffer)\n\u001b[0;32m   1168\u001b[0m     \u001b[38;5;28;01melse\u001b[39;00m:\n\u001b[0;32m   1169\u001b[0m         \u001b[38;5;28;01mreturn\u001b[39;00m \u001b[38;5;28mself\u001b[39m\u001b[38;5;241m.\u001b[39m_sslobj\u001b[38;5;241m.\u001b[39mread(\u001b[38;5;28mlen\u001b[39m)\n",
      "\u001b[1;31mKeyboardInterrupt\u001b[0m: "
     ]
    }
   ],
   "source": [
    "url = 'https://drive.google.com/uc?id=1YlvpDLix3S-U8fd-gqRwPcWXAXm8JwjL'\n",
    "output = 'data.zip'\n",
    "gdown.download(url, output, quiet=False)\n",
    "gdown.extractall('data.zip')"
   ]
  },
  {
   "cell_type": "code",
   "execution_count": 7,
   "id": "a1a70edf-82df-4008-ba35-338543c9f5f7",
   "metadata": {},
   "outputs": [],
   "source": [
    " def load_video(path:str) -> List[float]: \n",
    "\n",
    "    cap = cv2.VideoCapture(path)\n",
    "    frames = []\n",
    "    for _ in range(int(cap.get(cv2.CAP_PROP_FRAME_COUNT))): \n",
    "        ret, frame = cap.read()\n",
    "        frame = tf.image.rgb_to_grayscale(frame)\n",
    "        frames.append(frame[190:236,80:220,:])\n",
    "    cap.release()\n",
    "    \n",
    "    mean = tf.math.reduce_mean(frames)\n",
    "    std = tf.math.reduce_std(tf.cast(frames, tf.float32))\n",
    "    return tf.cast((frames - mean), tf.float32) / std"
   ]
  },
  {
   "cell_type": "code",
   "execution_count": 8,
   "id": "b1bacd4e-e956-4d64-8bdb-da925d56689c",
   "metadata": {},
   "outputs": [],
   "source": [
    "vocab = [x for x in \"abcdefghijklmnopqrstuvwxyz'?!123456789 \"]"
   ]
  },
  {
   "cell_type": "code",
   "execution_count": 9,
   "id": "f24bddd1-a54f-41af-a70c-512e93afd517",
   "metadata": {},
   "outputs": [
    {
     "name": "stdout",
     "output_type": "stream",
     "text": [
      "The vocabulary is: ['', 'a', 'b', 'c', 'd', 'e', 'f', 'g', 'h', 'i', 'j', 'k', 'l', 'm', 'n', 'o', 'p', 'q', 'r', 's', 't', 'u', 'v', 'w', 'x', 'y', 'z', \"'\", '?', '!', '1', '2', '3', '4', '5', '6', '7', '8', '9', ' '] (size =40)\n"
     ]
    }
   ],
   "source": [
    "char_to_num = tf.keras.layers.StringLookup(vocabulary=vocab, oov_token=\"\")\n",
    "num_to_char = tf.keras.layers.StringLookup(\n",
    "    vocabulary=char_to_num.get_vocabulary(), oov_token=\"\", invert=True\n",
    ")\n",
    "\n",
    "print(\n",
    "    f\"The vocabulary is: {char_to_num.get_vocabulary()} \"\n",
    "    f\"(size ={char_to_num.vocabulary_size()})\"\n",
    ")"
   ]
  },
  {
   "cell_type": "code",
   "execution_count": 10,
   "id": "7d2a9649-e6d2-4484-89e3-a822a56bdc27",
   "metadata": {},
   "outputs": [],
   "source": [
    "def load_alignments(path:str) -> List[str]: \n",
    "    with open(path, 'r') as f: \n",
    "        lines = f.readlines() \n",
    "    tokens = []\n",
    "    for line in lines:\n",
    "        line = line.split()\n",
    "        if line[2] != 'sil': \n",
    "            tokens = [*tokens,' ',line[2]]\n",
    "    return char_to_num(tf.reshape(tf.strings.unicode_split(tokens, input_encoding='UTF-8'), (-1)))[1:]"
   ]
  },
  {
   "cell_type": "code",
   "execution_count": 11,
   "id": "4af75b39-2854-4339-96e8-7b339ff334d3",
   "metadata": {},
   "outputs": [],
   "source": [
    "def load_data(path: str): \n",
    "    path = bytes.decode(path.numpy())\n",
    "    #file_name = path.split('/')[-1].split('.')[0]\n",
    "    # File name splitting for windows\n",
    "    file_name = path.split('\\\\')[-1].split('.')[0]\n",
    "    video_path = os.path.join('data','s1',f'{file_name}.mpg')\n",
    "    alignment_path = os.path.join('data','alignments','s1',f'{file_name}.align')\n",
    "    frames = load_video(video_path) \n",
    "    alignments = load_alignments(alignment_path)\n",
    "    \n",
    "    return frames, alignments"
   ]
  },
  {
   "cell_type": "code",
   "execution_count": 12,
   "id": "8d98df8a-4c9b-4edc-b490-12a35ac67bd4",
   "metadata": {},
   "outputs": [],
   "source": [
    "test_path = '.\\\\data\\\\s1\\\\bbal6n.mpg'\n",
    "tf.convert_to_tensor(test_path).numpy().decode('utf-8').split('\\\\')[-1].split('.')[0]\n",
    "frames, alignments = load_data(tf.convert_to_tensor(test_path))"
   ]
  },
  {
   "cell_type": "code",
   "execution_count": 13,
   "id": "978e29f3-1cef-4637-980a-5a9963088f70",
   "metadata": {},
   "outputs": [
    {
     "data": {
      "text/plain": [
       "<matplotlib.image.AxesImage at 0x1bd62ecf850>"
      ]
     },
     "execution_count": 13,
     "metadata": {},
     "output_type": "execute_result"
    },
    {
     "data": {
      "image/png": "[encoded data removed]",
      "text/plain": [
       "<Figure size 640x480 with 1 Axes>"
      ]
     },
     "metadata": {},
     "output_type": "display_data"
    }
   ],
   "source": [
    "plt.imshow(frames[40])"
   ]
  },
  {
   "cell_type": "code",
   "execution_count": 14,
   "id": "47e66cdd-2864-495d-bd6b-f71a39731468",
   "metadata": {},
   "outputs": [
    {
     "data": {
      "text/plain": [
       "<tf.Tensor: shape=(21,), dtype=int64, numpy=\n",
       "array([ 2,  9, 14, 39,  2, 12, 21,  5, 39,  1, 20, 39, 12, 39, 19,  9, 24,\n",
       "       39, 14, 15, 23], dtype=int64)>"
      ]
     },
     "execution_count": 14,
     "metadata": {},
     "output_type": "execute_result"
    }
   ],
   "source": [
    "alignments"
   ]
  },
  {
   "cell_type": "code",
   "execution_count": 15,
   "id": "8a0bee98-e2f4-4add-b388-d97fa54c7cd2",
   "metadata": {},
   "outputs": [
    {
     "data": {
      "text/plain": [
       "<tf.Tensor: shape=(), dtype=string, numpy=b'bin blue at l six now'>"
      ]
     },
     "execution_count": 15,
     "metadata": {},
     "output_type": "execute_result"
    }
   ],
   "source": [
    "tf.strings.reduce_join([bytes.decode(x) for x in num_to_char(alignments.numpy()).numpy()])"
   ]
  },
  {
   "cell_type": "code",
   "execution_count": 16,
   "id": "22f8d1b0-a591-4bd0-a360-c319e302c3ea",
   "metadata": {},
   "outputs": [],
   "source": [
    "def mappable_function(path:str) ->List[str]:\n",
    "    result = tf.py_function(load_data, [path], (tf.float32, tf.int64))\n",
    "    return result"
   ]
  },
  {
   "cell_type": "markdown",
   "id": "18be3551-5067-424b-9b6c-86b32f4541dc",
   "metadata": {},
   "source": [
    "CREATING DATA PIPELINE"
   ]
  },
  {
   "cell_type": "code",
   "execution_count": 17,
   "id": "a729d4d0-0073-4c4e-951d-5389d869d868",
   "metadata": {},
   "outputs": [],
   "source": [
    "data = tf.data.Dataset.list_files('./data/s1/*.mpg')\n",
    "data = data.shuffle(500, reshuffle_each_iteration=False)\n",
    "data = data.map(mappable_function)\n",
    "data = data.padded_batch(2, padded_shapes=([75,None,None,None],[40]))\n",
    "data = data.prefetch(tf.data.AUTOTUNE)\n",
    "# Added for split \n",
    "train = data.take(450)\n",
    "test = data.skip(450)"
   ]
  },
  {
   "cell_type": "code",
   "execution_count": 18,
   "id": "3f506a65-1e3f-4145-b00e-dbe8e81d557c",
   "metadata": {},
   "outputs": [
    {
     "data": {
      "text/plain": [
       "50"
      ]
     },
     "execution_count": 18,
     "metadata": {},
     "output_type": "execute_result"
    }
   ],
   "source": [
    "len(test)\n"
   ]
  },
  {
   "cell_type": "code",
   "execution_count": 19,
   "id": "f3f1524f-b47f-43b8-8f6d-10583d7d4788",
   "metadata": {},
   "outputs": [],
   "source": [
    "frames, alignments = data.as_numpy_iterator().next()\n"
   ]
  },
  {
   "cell_type": "code",
   "execution_count": 20,
   "id": "a0d32fbe-3c55-4a51-93ec-55adcb61b5b6",
   "metadata": {},
   "outputs": [
    {
     "data": {
      "text/plain": [
       "2"
      ]
     },
     "execution_count": 20,
     "metadata": {},
     "output_type": "execute_result"
    }
   ],
   "source": [
    "len(frames)\n"
   ]
  },
  {
   "cell_type": "code",
   "execution_count": 21,
   "id": "9317e1b1-21b4-4af6-bd3d-7acc2e9a57f9",
   "metadata": {},
   "outputs": [],
   "source": [
    "sample = data.as_numpy_iterator()\n"
   ]
  },
  {
   "cell_type": "code",
   "execution_count": 22,
   "id": "c29457fd-499a-4372-8ff5-a023acc04a3e",
   "metadata": {},
   "outputs": [
    {
     "data": {
      "text/plain": [
       "array([[[[[1.5334007 ],\n",
       "          [1.4620796 ],\n",
       "          [1.4264191 ],\n",
       "          ...,\n",
       "          [0.24962336],\n",
       "          [0.28528383],\n",
       "          [0.28528383]],\n",
       "\n",
       "         [[1.569061  ],\n",
       "          [1.4620796 ],\n",
       "          [1.3907588 ],\n",
       "          ...,\n",
       "          [0.24962336],\n",
       "          [0.28528383],\n",
       "          [0.28528383]],\n",
       "\n",
       "         [[1.4620796 ],\n",
       "          [1.4620796 ],\n",
       "          [1.4264191 ],\n",
       "          ...,\n",
       "          [0.35660478],\n",
       "          [0.24962336],\n",
       "          [0.24962336]],\n",
       "\n",
       "         ...,\n",
       "\n",
       "         [[1.0341539 ],\n",
       "          [1.0341539 ],\n",
       "          [1.0341539 ],\n",
       "          ...,\n",
       "          [0.03566048],\n",
       "          [0.03566048],\n",
       "          [0.03566048]],\n",
       "\n",
       "         [[0.99849343],\n",
       "          [0.99849343],\n",
       "          [0.99849343],\n",
       "          ...,\n",
       "          [0.03566048],\n",
       "          [0.03566048],\n",
       "          [0.03566048]],\n",
       "\n",
       "         [[0.99849343],\n",
       "          [0.99849343],\n",
       "          [0.99849343],\n",
       "          ...,\n",
       "          [0.03566048],\n",
       "          [0.03566048],\n",
       "          [0.        ]]],\n",
       "\n",
       "\n",
       "        [[[1.4264191 ],\n",
       "          [1.4977401 ],\n",
       "          [1.3550982 ],\n",
       "          ...,\n",
       "          [0.3209443 ],\n",
       "          [0.3209443 ],\n",
       "          [0.3209443 ]],\n",
       "\n",
       "         [[1.4264191 ],\n",
       "          [1.4264191 ],\n",
       "          [1.2837772 ],\n",
       "          ...,\n",
       "          [0.3209443 ],\n",
       "          [0.3209443 ],\n",
       "          [0.3209443 ]],\n",
       "\n",
       "         [[1.4620796 ],\n",
       "          [1.4620796 ],\n",
       "          [1.4620796 ],\n",
       "          ...,\n",
       "          [0.35660478],\n",
       "          [0.35660478],\n",
       "          [0.35660478]],\n",
       "\n",
       "         ...,\n",
       "\n",
       "         [[1.0341539 ],\n",
       "          [1.0341539 ],\n",
       "          [1.0341539 ],\n",
       "          ...,\n",
       "          [0.        ],\n",
       "          [0.        ],\n",
       "          [0.        ]],\n",
       "\n",
       "         [[0.99849343],\n",
       "          [0.99849343],\n",
       "          [0.99849343],\n",
       "          ...,\n",
       "          [0.        ],\n",
       "          [0.03566048],\n",
       "          [0.        ]],\n",
       "\n",
       "         [[0.99849343],\n",
       "          [0.99849343],\n",
       "          [0.99849343],\n",
       "          ...,\n",
       "          [0.        ],\n",
       "          [0.        ],\n",
       "          [0.        ]]],\n",
       "\n",
       "\n",
       "        [[[1.3907588 ],\n",
       "          [1.4977401 ],\n",
       "          [1.3550982 ],\n",
       "          ...,\n",
       "          [0.3209443 ],\n",
       "          [0.3209443 ],\n",
       "          [0.3209443 ]],\n",
       "\n",
       "         [[1.3907588 ],\n",
       "          [1.4620796 ],\n",
       "          [1.4264191 ],\n",
       "          ...,\n",
       "          [0.3209443 ],\n",
       "          [0.3209443 ],\n",
       "          [0.3209443 ]],\n",
       "\n",
       "         [[1.3907588 ],\n",
       "          [1.3907588 ],\n",
       "          [1.3907588 ],\n",
       "          ...,\n",
       "          [0.39226526],\n",
       "          [0.35660478],\n",
       "          [0.35660478]],\n",
       "\n",
       "         ...,\n",
       "\n",
       "         [[1.0341539 ],\n",
       "          [1.0341539 ],\n",
       "          [1.0341539 ],\n",
       "          ...,\n",
       "          [0.03566048],\n",
       "          [0.03566048],\n",
       "          [0.03566048]],\n",
       "\n",
       "         [[0.99849343],\n",
       "          [0.99849343],\n",
       "          [0.99849343],\n",
       "          ...,\n",
       "          [0.        ],\n",
       "          [0.07132096],\n",
       "          [0.03566048]],\n",
       "\n",
       "         [[0.99849343],\n",
       "          [0.99849343],\n",
       "          [0.99849343],\n",
       "          ...,\n",
       "          [0.        ],\n",
       "          [0.03566048],\n",
       "          [0.03566048]]],\n",
       "\n",
       "\n",
       "        ...,\n",
       "\n",
       "\n",
       "        [[[1.5334007 ],\n",
       "          [1.4977401 ],\n",
       "          [1.3907588 ],\n",
       "          ...,\n",
       "          [0.24962336],\n",
       "          [0.24962336],\n",
       "          [0.24962336]],\n",
       "\n",
       "         [[1.4977401 ],\n",
       "          [1.4264191 ],\n",
       "          [1.3907588 ],\n",
       "          ...,\n",
       "          [0.24962336],\n",
       "          [0.24962336],\n",
       "          [0.24962336]],\n",
       "\n",
       "         [[1.3550982 ],\n",
       "          [1.3550982 ],\n",
       "          [1.3907588 ],\n",
       "          ...,\n",
       "          [0.3209443 ],\n",
       "          [0.35660478],\n",
       "          [0.35660478]],\n",
       "\n",
       "         ...,\n",
       "\n",
       "         [[1.0341539 ],\n",
       "          [1.0341539 ],\n",
       "          [1.0341539 ],\n",
       "          ...,\n",
       "          [0.03566048],\n",
       "          [0.07132096],\n",
       "          [0.07132096]],\n",
       "\n",
       "         [[1.0341539 ],\n",
       "          [1.0341539 ],\n",
       "          [0.99849343],\n",
       "          ...,\n",
       "          [0.03566048],\n",
       "          [0.03566048],\n",
       "          [0.03566048]],\n",
       "\n",
       "         [[0.99849343],\n",
       "          [0.99849343],\n",
       "          [0.99849343],\n",
       "          ...,\n",
       "          [0.03566048],\n",
       "          [0.03566048],\n",
       "          [0.        ]]],\n",
       "\n",
       "\n",
       "        [[[1.5334007 ],\n",
       "          [1.4264191 ],\n",
       "          [1.4977401 ],\n",
       "          ...,\n",
       "          [0.28528383],\n",
       "          [0.24962336],\n",
       "          [0.24962336]],\n",
       "\n",
       "         [[1.4977401 ],\n",
       "          [1.4977401 ],\n",
       "          [1.4620796 ],\n",
       "          ...,\n",
       "          [0.28528383],\n",
       "          [0.24962336],\n",
       "          [0.24962336]],\n",
       "\n",
       "         [[1.4264191 ],\n",
       "          [1.4264191 ],\n",
       "          [1.4264191 ],\n",
       "          ...,\n",
       "          [0.35660478],\n",
       "          [0.35660478],\n",
       "          [0.35660478]],\n",
       "\n",
       "         ...,\n",
       "\n",
       "         [[1.0698143 ],\n",
       "          [1.0341539 ],\n",
       "          [1.0341539 ],\n",
       "          ...,\n",
       "          [0.        ],\n",
       "          [0.07132096],\n",
       "          [0.07132096]],\n",
       "\n",
       "         [[1.0698143 ],\n",
       "          [1.0341539 ],\n",
       "          [1.0341539 ],\n",
       "          ...,\n",
       "          [0.        ],\n",
       "          [0.03566048],\n",
       "          [0.03566048]],\n",
       "\n",
       "         [[1.0698143 ],\n",
       "          [0.99849343],\n",
       "          [0.99849343],\n",
       "          ...,\n",
       "          [0.        ],\n",
       "          [0.03566048],\n",
       "          [0.        ]]],\n",
       "\n",
       "\n",
       "        [[[1.4977401 ],\n",
       "          [1.3550982 ],\n",
       "          [1.4620796 ],\n",
       "          ...,\n",
       "          [0.28528383],\n",
       "          [0.28528383],\n",
       "          [0.24962336]],\n",
       "\n",
       "         [[1.4977401 ],\n",
       "          [1.4620796 ],\n",
       "          [1.3907588 ],\n",
       "          ...,\n",
       "          [0.28528383],\n",
       "          [0.28528383],\n",
       "          [0.24962336]],\n",
       "\n",
       "         [[1.4264191 ],\n",
       "          [1.4264191 ],\n",
       "          [1.4264191 ],\n",
       "          ...,\n",
       "          [0.28528383],\n",
       "          [0.28528383],\n",
       "          [0.21396288]],\n",
       "\n",
       "         ...,\n",
       "\n",
       "         [[1.0698143 ],\n",
       "          [1.0341539 ],\n",
       "          [1.0341539 ],\n",
       "          ...,\n",
       "          [0.03566048],\n",
       "          [0.07132096],\n",
       "          [0.07132096]],\n",
       "\n",
       "         [[1.0698143 ],\n",
       "          [1.0341539 ],\n",
       "          [1.0341539 ],\n",
       "          ...,\n",
       "          [0.07132096],\n",
       "          [0.03566048],\n",
       "          [0.03566048]],\n",
       "\n",
       "         [[1.0698143 ],\n",
       "          [0.99849343],\n",
       "          [0.99849343],\n",
       "          ...,\n",
       "          [0.07132096],\n",
       "          [0.03566048],\n",
       "          [0.        ]]]],\n",
       "\n",
       "\n",
       "\n",
       "       [[[[1.5723375 ],\n",
       "          [1.6097741 ],\n",
       "          [1.5723375 ],\n",
       "          ...,\n",
       "          [0.33692947],\n",
       "          [0.33692947],\n",
       "          [0.33692947]],\n",
       "\n",
       "         [[1.6097741 ],\n",
       "          [1.6472107 ],\n",
       "          [1.6097741 ],\n",
       "          ...,\n",
       "          [0.33692947],\n",
       "          [0.33692947],\n",
       "          [0.33692947]],\n",
       "\n",
       "         [[1.4974643 ],\n",
       "          [1.4974643 ],\n",
       "          [1.4974643 ],\n",
       "          ...,\n",
       "          [0.37436607],\n",
       "          [0.29949287],\n",
       "          [0.29949287]],\n",
       "\n",
       "         ...,\n",
       "\n",
       "         [[0.9733518 ],\n",
       "          [0.9733518 ],\n",
       "          [0.9733518 ],\n",
       "          ...,\n",
       "          [0.07487322],\n",
       "          [0.07487322],\n",
       "          [0.07487322]],\n",
       "\n",
       "         [[0.9733518 ],\n",
       "          [0.9733518 ],\n",
       "          [0.9733518 ],\n",
       "          ...,\n",
       "          [0.07487322],\n",
       "          [0.07487322],\n",
       "          [0.07487322]],\n",
       "\n",
       "         [[0.9733518 ],\n",
       "          [0.9733518 ],\n",
       "          [0.9733518 ],\n",
       "          ...,\n",
       "          [0.07487322],\n",
       "          [0.07487322],\n",
       "          [0.03743661]]],\n",
       "\n",
       "\n",
       "        [[[1.5349009 ],\n",
       "          [1.6097741 ],\n",
       "          [1.4600277 ],\n",
       "          ...,\n",
       "          [0.37436607],\n",
       "          [0.33692947],\n",
       "          [0.33692947]],\n",
       "\n",
       "         [[1.4600277 ],\n",
       "          [1.5723375 ],\n",
       "          [1.4600277 ],\n",
       "          ...,\n",
       "          [0.37436607],\n",
       "          [0.33692947],\n",
       "          [0.33692947]],\n",
       "\n",
       "         [[1.4974643 ],\n",
       "          [1.4974643 ],\n",
       "          [1.4600277 ],\n",
       "          ...,\n",
       "          [0.37436607],\n",
       "          [0.33692947],\n",
       "          [0.33692947]],\n",
       "\n",
       "         ...,\n",
       "\n",
       "         [[1.048225  ],\n",
       "          [1.048225  ],\n",
       "          [1.048225  ],\n",
       "          ...,\n",
       "          [0.07487322],\n",
       "          [0.07487322],\n",
       "          [0.07487322]],\n",
       "\n",
       "         [[1.048225  ],\n",
       "          [1.048225  ],\n",
       "          [1.0107884 ],\n",
       "          ...,\n",
       "          [0.07487322],\n",
       "          [0.07487322],\n",
       "          [0.03743661]],\n",
       "\n",
       "         [[1.0107884 ],\n",
       "          [1.0107884 ],\n",
       "          [1.0107884 ],\n",
       "          ...,\n",
       "          [0.07487322],\n",
       "          [0.03743661],\n",
       "          [0.03743661]]],\n",
       "\n",
       "\n",
       "        [[[1.5349009 ],\n",
       "          [1.5349009 ],\n",
       "          [1.4974643 ],\n",
       "          ...,\n",
       "          [0.33692947],\n",
       "          [0.29949287],\n",
       "          [0.29949287]],\n",
       "\n",
       "         [[1.4974643 ],\n",
       "          [1.4974643 ],\n",
       "          [1.4974643 ],\n",
       "          ...,\n",
       "          [0.33692947],\n",
       "          [0.29949287],\n",
       "          [0.29949287]],\n",
       "\n",
       "         [[1.4225911 ],\n",
       "          [1.4225911 ],\n",
       "          [1.4225911 ],\n",
       "          ...,\n",
       "          [0.41180268],\n",
       "          [0.33692947],\n",
       "          [0.33692947]],\n",
       "\n",
       "         ...,\n",
       "\n",
       "         [[1.048225  ],\n",
       "          [1.048225  ],\n",
       "          [1.048225  ],\n",
       "          ...,\n",
       "          [0.07487322],\n",
       "          [0.11230982],\n",
       "          [0.07487322]],\n",
       "\n",
       "         [[1.048225  ],\n",
       "          [1.048225  ],\n",
       "          [1.0107884 ],\n",
       "          ...,\n",
       "          [0.07487322],\n",
       "          [0.07487322],\n",
       "          [0.07487322]],\n",
       "\n",
       "         [[1.0107884 ],\n",
       "          [1.0107884 ],\n",
       "          [1.0107884 ],\n",
       "          ...,\n",
       "          [0.03743661],\n",
       "          [0.07487322],\n",
       "          [0.07487322]]],\n",
       "\n",
       "\n",
       "        ...,\n",
       "\n",
       "\n",
       "        [[[1.5349009 ],\n",
       "          [1.5349009 ],\n",
       "          [1.4974643 ],\n",
       "          ...,\n",
       "          [0.33692947],\n",
       "          [0.33692947],\n",
       "          [0.33692947]],\n",
       "\n",
       "         [[1.4974643 ],\n",
       "          [1.5349009 ],\n",
       "          [1.4600277 ],\n",
       "          ...,\n",
       "          [0.33692947],\n",
       "          [0.33692947],\n",
       "          [0.33692947]],\n",
       "\n",
       "         [[1.4974643 ],\n",
       "          [1.4974643 ],\n",
       "          [1.4600277 ],\n",
       "          ...,\n",
       "          [0.33692947],\n",
       "          [0.33692947],\n",
       "          [0.33692947]],\n",
       "\n",
       "         ...,\n",
       "\n",
       "         [[1.0107884 ],\n",
       "          [1.0107884 ],\n",
       "          [0.9733518 ],\n",
       "          ...,\n",
       "          [0.11230982],\n",
       "          [0.07487322],\n",
       "          [0.03743661]],\n",
       "\n",
       "         [[1.0107884 ],\n",
       "          [1.0107884 ],\n",
       "          [0.9733518 ],\n",
       "          ...,\n",
       "          [0.11230982],\n",
       "          [0.07487322],\n",
       "          [0.07487322]],\n",
       "\n",
       "         [[1.0107884 ],\n",
       "          [1.0107884 ],\n",
       "          [0.9733518 ],\n",
       "          ...,\n",
       "          [0.07487322],\n",
       "          [0.07487322],\n",
       "          [0.03743661]]],\n",
       "\n",
       "\n",
       "        [[[1.5349009 ],\n",
       "          [1.5349009 ],\n",
       "          [1.4600277 ],\n",
       "          ...,\n",
       "          [0.33692947],\n",
       "          [0.33692947],\n",
       "          [0.33692947]],\n",
       "\n",
       "         [[1.4974643 ],\n",
       "          [1.5349009 ],\n",
       "          [1.4225911 ],\n",
       "          ...,\n",
       "          [0.33692947],\n",
       "          [0.33692947],\n",
       "          [0.33692947]],\n",
       "\n",
       "         [[1.4974643 ],\n",
       "          [1.4974643 ],\n",
       "          [1.4600277 ],\n",
       "          ...,\n",
       "          [0.33692947],\n",
       "          [0.29949287],\n",
       "          [0.29949287]],\n",
       "\n",
       "         ...,\n",
       "\n",
       "         [[1.0107884 ],\n",
       "          [0.9733518 ],\n",
       "          [0.9359152 ],\n",
       "          ...,\n",
       "          [0.14974643],\n",
       "          [0.11230982],\n",
       "          [0.07487322]],\n",
       "\n",
       "         [[1.0107884 ],\n",
       "          [0.9733518 ],\n",
       "          [0.9359152 ],\n",
       "          ...,\n",
       "          [0.14974643],\n",
       "          [0.11230982],\n",
       "          [0.11230982]],\n",
       "\n",
       "         [[1.0107884 ],\n",
       "          [0.9733518 ],\n",
       "          [0.9359152 ],\n",
       "          ...,\n",
       "          [0.11230982],\n",
       "          [0.11230982],\n",
       "          [0.07487322]]],\n",
       "\n",
       "\n",
       "        [[[1.5349009 ],\n",
       "          [1.5349009 ],\n",
       "          [1.4974643 ],\n",
       "          ...,\n",
       "          [0.33692947],\n",
       "          [0.33692947],\n",
       "          [0.33692947]],\n",
       "\n",
       "         [[1.4974643 ],\n",
       "          [1.5723375 ],\n",
       "          [1.4600277 ],\n",
       "          ...,\n",
       "          [0.33692947],\n",
       "          [0.33692947],\n",
       "          [0.33692947]],\n",
       "\n",
       "         [[1.4600277 ],\n",
       "          [1.4600277 ],\n",
       "          [1.4600277 ],\n",
       "          ...,\n",
       "          [0.29949287],\n",
       "          [0.29949287],\n",
       "          [0.29949287]],\n",
       "\n",
       "         ...,\n",
       "\n",
       "         [[1.048225  ],\n",
       "          [0.9733518 ],\n",
       "          [0.9733518 ],\n",
       "          ...,\n",
       "          [0.14974643],\n",
       "          [0.07487322],\n",
       "          [0.07487322]],\n",
       "\n",
       "         [[1.048225  ],\n",
       "          [0.9733518 ],\n",
       "          [0.9733518 ],\n",
       "          ...,\n",
       "          [0.11230982],\n",
       "          [0.11230982],\n",
       "          [0.07487322]],\n",
       "\n",
       "         [[1.048225  ],\n",
       "          [0.9733518 ],\n",
       "          [0.9733518 ],\n",
       "          ...,\n",
       "          [0.11230982],\n",
       "          [0.07487322],\n",
       "          [0.07487322]]]]], dtype=float32)"
      ]
     },
     "execution_count": 22,
     "metadata": {},
     "output_type": "execute_result"
    }
   ],
   "source": [
    "val = sample.next(); val[0]"
   ]
  },
  {
   "cell_type": "code",
   "execution_count": 23,
   "id": "a8a7f5a7-3534-4ebf-9657-934bb41371d1",
   "metadata": {},
   "outputs": [],
   "source": [
    "fv = (val[0][1].astype(np.uint8) * 255).squeeze()\n",
    "imageio.mimsave('./animation.gif', fv, duration=100)"
   ]
  },
  {
   "cell_type": "code",
   "execution_count": 24,
   "id": "37b369fe-27fb-4fc4-b82c-135c6f5153cd",
   "metadata": {},
   "outputs": [
    {
     "data": {
      "text/plain": [
       "<matplotlib.image.AxesImage at 0x1bd66721e10>"
      ]
     },
     "execution_count": 24,
     "metadata": {},
     "output_type": "execute_result"
    },
    {
     "data": {
      "image/png": "[encoded data removed]",
      "text/plain": [
       "<Figure size 640x480 with 1 Axes>"
      ]
     },
     "metadata": {},
     "output_type": "display_data"
    }
   ],
   "source": [
    "plt.imshow(val[0][0][35])\n"
   ]
  },
  {
   "cell_type": "code",
   "execution_count": 25,
   "id": "1de6655b-b427-4c29-947c-621f24e0cc02",
   "metadata": {},
   "outputs": [
    {
     "data": {
      "text/plain": [
       "<tf.Tensor: shape=(), dtype=string, numpy=b'place red by x three soon'>"
      ]
     },
     "execution_count": 25,
     "metadata": {},
     "output_type": "execute_result"
    }
   ],
   "source": [
    "tf.strings.reduce_join([num_to_char(word) for word in val[1][0]])"
   ]
  },
  {
   "cell_type": "code",
   "execution_count": 26,
   "id": "e896e302-894a-41f1-8e9e-072022636ecf",
   "metadata": {},
   "outputs": [],
   "source": [
    "from tensorflow.keras.models import Sequential \n",
    "from tensorflow.keras.layers import Conv3D, LSTM, Dense, Dropout, Bidirectional, MaxPool3D, Activation, Reshape, SpatialDropout3D, BatchNormalization, TimeDistributed, Flatten\n",
    "from tensorflow.keras.optimizers import Adam\n",
    "from tensorflow.keras.callbacks import ModelCheckpoint, LearningRateScheduler\n"
   ]
  },
  {
   "cell_type": "code",
   "execution_count": 27,
   "id": "02d95a69-8260-4b85-be99-984aeae20790",
   "metadata": {},
   "outputs": [
    {
     "data": {
      "text/plain": [
       "(75, 46, 140, 1)"
      ]
     },
     "execution_count": 27,
     "metadata": {},
     "output_type": "execute_result"
    }
   ],
   "source": [
    "data.as_numpy_iterator().next()[0][0].shape\n"
   ]
  },
  {
   "cell_type": "code",
   "execution_count": 27,
   "id": "00c70b2d-6190-4749-8884-9c6f528475e0",
   "metadata": {},
   "outputs": [
    {
     "name": "stderr",
     "output_type": "stream",
     "text": [
      "C:\\Users\\vivek\\anaconda3\\Lib\\site-packages\\keras\\src\\layers\\convolutional\\base_conv.py:99: UserWarning: Do not pass an `input_shape`/`input_dim` argument to a layer. When using Sequential models, prefer using an `Input(shape)` object as the first layer in the model instead.\n",
      "  super().__init__(\n"
     ]
    }
   ],
   "source": [
    "from keras.models import Sequential\n",
    "from keras.layers import Conv3D, Activation, MaxPool3D, TimeDistributed, Flatten, Bidirectional, LSTM, Dropout, Dense\n",
    "from keras.initializers import Orthogonal\n",
    "\n",
    "model = Sequential()\n",
    "model.add(Conv3D(128, 3, input_shape=(75, 46, 140, 1), padding='same'))\n",
    "model.add(Activation('relu'))\n",
    "model.add(MaxPool3D((1, 2, 2)))\n",
    "\n",
    "model.add(Conv3D(256, 3, padding='same'))\n",
    "model.add(Activation('relu'))\n",
    "model.add(MaxPool3D((1, 2, 2)))\n",
    "\n",
    "model.add(Conv3D(75, 3, padding='same'))\n",
    "model.add(Activation('relu'))\n",
    "model.add(MaxPool3D((1, 2, 2)))\n",
    "\n",
    "model.add(TimeDistributed(Flatten()))\n",
    "\n",
    "model.add(Bidirectional(LSTM(128, kernel_initializer=Orthogonal(), return_sequences=True)))\n",
    "model.add(Dropout(.5))\n",
    "\n",
    "model.add(Bidirectional(LSTM(128, kernel_initializer=Orthogonal(), return_sequences=True)))\n",
    "model.add(Dropout(.5))\n",
    "\n",
    "model.add(Dense(char_to_num.vocabulary_size() + 1, kernel_initializer='he_normal', activation='softmax'))\n"
   ]
  },
  {
   "cell_type": "code",
   "execution_count": 28,
   "id": "bdec4143-2edd-4d97-9054-e10828abb5e3",
   "metadata": {},
   "outputs": [
    {
     "data": {
      "text/html": [
       "<pre style=\"white-space:pre;overflow-x:auto;line-height:normal;font-family:Menlo,'DejaVu Sans Mono',consolas,'Courier New',monospace\"><span style=\"font-weight: bold\">Model: \"sequential\"</span>\n",
       "</pre>\n"
      ],
      "text/plain": [
       "\u001b[1mModel: \"sequential\"\u001b[0m\n"
      ]
     },
     "metadata": {},
     "output_type": "display_data"
    },
    {
     "data": {
      "text/html": [
       "<pre style=\"white-space:pre;overflow-x:auto;line-height:normal;font-family:Menlo,'DejaVu Sans Mono',consolas,'Courier New',monospace\">┏━━━━━━━━━━━━━━━━━━━━━━━━━━━━━━━━━━━━━━┳━━━━━━━━━━━━━━━━━━━━━━━━━━━━━┳━━━━━━━━━━━━━━━━━┓\n",
       "┃<span style=\"font-weight: bold\"> Layer (type)                         </span>┃<span style=\"font-weight: bold\"> Output Shape                </span>┃<span style=\"font-weight: bold\">         Param # </span>┃\n",
       "┡━━━━━━━━━━━━━━━━━━━━━━━━━━━━━━━━━━━━━━╇━━━━━━━━━━━━━━━━━━━━━━━━━━━━━╇━━━━━━━━━━━━━━━━━┩\n",
       "│ conv3d (<span style=\"color: #0087ff; text-decoration-color: #0087ff\">Conv3D</span>)                      │ (<span style=\"color: #00d7ff; text-decoration-color: #00d7ff\">None</span>, <span style=\"color: #00af00; text-decoration-color: #00af00\">75</span>, <span style=\"color: #00af00; text-decoration-color: #00af00\">46</span>, <span style=\"color: #00af00; text-decoration-color: #00af00\">140</span>, <span style=\"color: #00af00; text-decoration-color: #00af00\">128</span>)    │           <span style=\"color: #00af00; text-decoration-color: #00af00\">3,584</span> │\n",
       "├──────────────────────────────────────┼─────────────────────────────┼─────────────────┤\n",
       "│ activation (<span style=\"color: #0087ff; text-decoration-color: #0087ff\">Activation</span>)              │ (<span style=\"color: #00d7ff; text-decoration-color: #00d7ff\">None</span>, <span style=\"color: #00af00; text-decoration-color: #00af00\">75</span>, <span style=\"color: #00af00; text-decoration-color: #00af00\">46</span>, <span style=\"color: #00af00; text-decoration-color: #00af00\">140</span>, <span style=\"color: #00af00; text-decoration-color: #00af00\">128</span>)    │               <span style=\"color: #00af00; text-decoration-color: #00af00\">0</span> │\n",
       "├──────────────────────────────────────┼─────────────────────────────┼─────────────────┤\n",
       "│ max_pooling3d (<span style=\"color: #0087ff; text-decoration-color: #0087ff\">MaxPooling3D</span>)         │ (<span style=\"color: #00d7ff; text-decoration-color: #00d7ff\">None</span>, <span style=\"color: #00af00; text-decoration-color: #00af00\">75</span>, <span style=\"color: #00af00; text-decoration-color: #00af00\">23</span>, <span style=\"color: #00af00; text-decoration-color: #00af00\">70</span>, <span style=\"color: #00af00; text-decoration-color: #00af00\">128</span>)     │               <span style=\"color: #00af00; text-decoration-color: #00af00\">0</span> │\n",
       "├──────────────────────────────────────┼─────────────────────────────┼─────────────────┤\n",
       "│ conv3d_1 (<span style=\"color: #0087ff; text-decoration-color: #0087ff\">Conv3D</span>)                    │ (<span style=\"color: #00d7ff; text-decoration-color: #00d7ff\">None</span>, <span style=\"color: #00af00; text-decoration-color: #00af00\">75</span>, <span style=\"color: #00af00; text-decoration-color: #00af00\">23</span>, <span style=\"color: #00af00; text-decoration-color: #00af00\">70</span>, <span style=\"color: #00af00; text-decoration-color: #00af00\">256</span>)     │         <span style=\"color: #00af00; text-decoration-color: #00af00\">884,992</span> │\n",
       "├──────────────────────────────────────┼─────────────────────────────┼─────────────────┤\n",
       "│ activation_1 (<span style=\"color: #0087ff; text-decoration-color: #0087ff\">Activation</span>)            │ (<span style=\"color: #00d7ff; text-decoration-color: #00d7ff\">None</span>, <span style=\"color: #00af00; text-decoration-color: #00af00\">75</span>, <span style=\"color: #00af00; text-decoration-color: #00af00\">23</span>, <span style=\"color: #00af00; text-decoration-color: #00af00\">70</span>, <span style=\"color: #00af00; text-decoration-color: #00af00\">256</span>)     │               <span style=\"color: #00af00; text-decoration-color: #00af00\">0</span> │\n",
       "├──────────────────────────────────────┼─────────────────────────────┼─────────────────┤\n",
       "│ max_pooling3d_1 (<span style=\"color: #0087ff; text-decoration-color: #0087ff\">MaxPooling3D</span>)       │ (<span style=\"color: #00d7ff; text-decoration-color: #00d7ff\">None</span>, <span style=\"color: #00af00; text-decoration-color: #00af00\">75</span>, <span style=\"color: #00af00; text-decoration-color: #00af00\">11</span>, <span style=\"color: #00af00; text-decoration-color: #00af00\">35</span>, <span style=\"color: #00af00; text-decoration-color: #00af00\">256</span>)     │               <span style=\"color: #00af00; text-decoration-color: #00af00\">0</span> │\n",
       "├──────────────────────────────────────┼─────────────────────────────┼─────────────────┤\n",
       "│ conv3d_2 (<span style=\"color: #0087ff; text-decoration-color: #0087ff\">Conv3D</span>)                    │ (<span style=\"color: #00d7ff; text-decoration-color: #00d7ff\">None</span>, <span style=\"color: #00af00; text-decoration-color: #00af00\">75</span>, <span style=\"color: #00af00; text-decoration-color: #00af00\">11</span>, <span style=\"color: #00af00; text-decoration-color: #00af00\">35</span>, <span style=\"color: #00af00; text-decoration-color: #00af00\">75</span>)      │         <span style=\"color: #00af00; text-decoration-color: #00af00\">518,475</span> │\n",
       "├──────────────────────────────────────┼─────────────────────────────┼─────────────────┤\n",
       "│ activation_2 (<span style=\"color: #0087ff; text-decoration-color: #0087ff\">Activation</span>)            │ (<span style=\"color: #00d7ff; text-decoration-color: #00d7ff\">None</span>, <span style=\"color: #00af00; text-decoration-color: #00af00\">75</span>, <span style=\"color: #00af00; text-decoration-color: #00af00\">11</span>, <span style=\"color: #00af00; text-decoration-color: #00af00\">35</span>, <span style=\"color: #00af00; text-decoration-color: #00af00\">75</span>)      │               <span style=\"color: #00af00; text-decoration-color: #00af00\">0</span> │\n",
       "├──────────────────────────────────────┼─────────────────────────────┼─────────────────┤\n",
       "│ max_pooling3d_2 (<span style=\"color: #0087ff; text-decoration-color: #0087ff\">MaxPooling3D</span>)       │ (<span style=\"color: #00d7ff; text-decoration-color: #00d7ff\">None</span>, <span style=\"color: #00af00; text-decoration-color: #00af00\">75</span>, <span style=\"color: #00af00; text-decoration-color: #00af00\">5</span>, <span style=\"color: #00af00; text-decoration-color: #00af00\">17</span>, <span style=\"color: #00af00; text-decoration-color: #00af00\">75</span>)       │               <span style=\"color: #00af00; text-decoration-color: #00af00\">0</span> │\n",
       "├──────────────────────────────────────┼─────────────────────────────┼─────────────────┤\n",
       "│ time_distributed (<span style=\"color: #0087ff; text-decoration-color: #0087ff\">TimeDistributed</span>)   │ (<span style=\"color: #00d7ff; text-decoration-color: #00d7ff\">None</span>, <span style=\"color: #00af00; text-decoration-color: #00af00\">75</span>, <span style=\"color: #00af00; text-decoration-color: #00af00\">6375</span>)            │               <span style=\"color: #00af00; text-decoration-color: #00af00\">0</span> │\n",
       "├──────────────────────────────────────┼─────────────────────────────┼─────────────────┤\n",
       "│ bidirectional (<span style=\"color: #0087ff; text-decoration-color: #0087ff\">Bidirectional</span>)        │ (<span style=\"color: #00d7ff; text-decoration-color: #00d7ff\">None</span>, <span style=\"color: #00af00; text-decoration-color: #00af00\">75</span>, <span style=\"color: #00af00; text-decoration-color: #00af00\">256</span>)             │       <span style=\"color: #00af00; text-decoration-color: #00af00\">6,660,096</span> │\n",
       "├──────────────────────────────────────┼─────────────────────────────┼─────────────────┤\n",
       "│ dropout (<span style=\"color: #0087ff; text-decoration-color: #0087ff\">Dropout</span>)                    │ (<span style=\"color: #00d7ff; text-decoration-color: #00d7ff\">None</span>, <span style=\"color: #00af00; text-decoration-color: #00af00\">75</span>, <span style=\"color: #00af00; text-decoration-color: #00af00\">256</span>)             │               <span style=\"color: #00af00; text-decoration-color: #00af00\">0</span> │\n",
       "├──────────────────────────────────────┼─────────────────────────────┼─────────────────┤\n",
       "│ bidirectional_1 (<span style=\"color: #0087ff; text-decoration-color: #0087ff\">Bidirectional</span>)      │ (<span style=\"color: #00d7ff; text-decoration-color: #00d7ff\">None</span>, <span style=\"color: #00af00; text-decoration-color: #00af00\">75</span>, <span style=\"color: #00af00; text-decoration-color: #00af00\">256</span>)             │         <span style=\"color: #00af00; text-decoration-color: #00af00\">394,240</span> │\n",
       "├──────────────────────────────────────┼─────────────────────────────┼─────────────────┤\n",
       "│ dropout_1 (<span style=\"color: #0087ff; text-decoration-color: #0087ff\">Dropout</span>)                  │ (<span style=\"color: #00d7ff; text-decoration-color: #00d7ff\">None</span>, <span style=\"color: #00af00; text-decoration-color: #00af00\">75</span>, <span style=\"color: #00af00; text-decoration-color: #00af00\">256</span>)             │               <span style=\"color: #00af00; text-decoration-color: #00af00\">0</span> │\n",
       "├──────────────────────────────────────┼─────────────────────────────┼─────────────────┤\n",
       "│ dense (<span style=\"color: #0087ff; text-decoration-color: #0087ff\">Dense</span>)                        │ (<span style=\"color: #00d7ff; text-decoration-color: #00d7ff\">None</span>, <span style=\"color: #00af00; text-decoration-color: #00af00\">75</span>, <span style=\"color: #00af00; text-decoration-color: #00af00\">41</span>)              │          <span style=\"color: #00af00; text-decoration-color: #00af00\">10,537</span> │\n",
       "└──────────────────────────────────────┴─────────────────────────────┴─────────────────┘\n",
       "</pre>\n"
      ],
      "text/plain": [
       "┏━━━━━━━━━━━━━━━━━━━━━━━━━━━━━━━━━━━━━━┳━━━━━━━━━━━━━━━━━━━━━━━━━━━━━┳━━━━━━━━━━━━━━━━━┓\n",
       "┃\u001b[1m \u001b[0m\u001b[1mLayer (type)                        \u001b[0m\u001b[1m \u001b[0m┃\u001b[1m \u001b[0m\u001b[1mOutput Shape               \u001b[0m\u001b[1m \u001b[0m┃\u001b[1m \u001b[0m\u001b[1m        Param #\u001b[0m\u001b[1m \u001b[0m┃\n",
       "┡━━━━━━━━━━━━━━━━━━━━━━━━━━━━━━━━━━━━━━╇━━━━━━━━━━━━━━━━━━━━━━━━━━━━━╇━━━━━━━━━━━━━━━━━┩\n",
       "│ conv3d (\u001b[38;5;33mConv3D\u001b[0m)                      │ (\u001b[38;5;45mNone\u001b[0m, \u001b[38;5;34m75\u001b[0m, \u001b[38;5;34m46\u001b[0m, \u001b[38;5;34m140\u001b[0m, \u001b[38;5;34m128\u001b[0m)    │           \u001b[38;5;34m3,584\u001b[0m │\n",
       "├──────────────────────────────────────┼─────────────────────────────┼─────────────────┤\n",
       "│ activation (\u001b[38;5;33mActivation\u001b[0m)              │ (\u001b[38;5;45mNone\u001b[0m, \u001b[38;5;34m75\u001b[0m, \u001b[38;5;34m46\u001b[0m, \u001b[38;5;34m140\u001b[0m, \u001b[38;5;34m128\u001b[0m)    │               \u001b[38;5;34m0\u001b[0m │\n",
       "├──────────────────────────────────────┼─────────────────────────────┼─────────────────┤\n",
       "│ max_pooling3d (\u001b[38;5;33mMaxPooling3D\u001b[0m)         │ (\u001b[38;5;45mNone\u001b[0m, \u001b[38;5;34m75\u001b[0m, \u001b[38;5;34m23\u001b[0m, \u001b[38;5;34m70\u001b[0m, \u001b[38;5;34m128\u001b[0m)     │               \u001b[38;5;34m0\u001b[0m │\n",
       "├──────────────────────────────────────┼─────────────────────────────┼─────────────────┤\n",
       "│ conv3d_1 (\u001b[38;5;33mConv3D\u001b[0m)                    │ (\u001b[38;5;45mNone\u001b[0m, \u001b[38;5;34m75\u001b[0m, \u001b[38;5;34m23\u001b[0m, \u001b[38;5;34m70\u001b[0m, \u001b[38;5;34m256\u001b[0m)     │         \u001b[38;5;34m884,992\u001b[0m │\n",
       "├──────────────────────────────────────┼─────────────────────────────┼─────────────────┤\n",
       "│ activation_1 (\u001b[38;5;33mActivation\u001b[0m)            │ (\u001b[38;5;45mNone\u001b[0m, \u001b[38;5;34m75\u001b[0m, \u001b[38;5;34m23\u001b[0m, \u001b[38;5;34m70\u001b[0m, \u001b[38;5;34m256\u001b[0m)     │               \u001b[38;5;34m0\u001b[0m │\n",
       "├──────────────────────────────────────┼─────────────────────────────┼─────────────────┤\n",
       "│ max_pooling3d_1 (\u001b[38;5;33mMaxPooling3D\u001b[0m)       │ (\u001b[38;5;45mNone\u001b[0m, \u001b[38;5;34m75\u001b[0m, \u001b[38;5;34m11\u001b[0m, \u001b[38;5;34m35\u001b[0m, \u001b[38;5;34m256\u001b[0m)     │               \u001b[38;5;34m0\u001b[0m │\n",
       "├──────────────────────────────────────┼─────────────────────────────┼─────────────────┤\n",
       "│ conv3d_2 (\u001b[38;5;33mConv3D\u001b[0m)                    │ (\u001b[38;5;45mNone\u001b[0m, \u001b[38;5;34m75\u001b[0m, \u001b[38;5;34m11\u001b[0m, \u001b[38;5;34m35\u001b[0m, \u001b[38;5;34m75\u001b[0m)      │         \u001b[38;5;34m518,475\u001b[0m │\n",
       "├──────────────────────────────────────┼─────────────────────────────┼─────────────────┤\n",
       "│ activation_2 (\u001b[38;5;33mActivation\u001b[0m)            │ (\u001b[38;5;45mNone\u001b[0m, \u001b[38;5;34m75\u001b[0m, \u001b[38;5;34m11\u001b[0m, \u001b[38;5;34m35\u001b[0m, \u001b[38;5;34m75\u001b[0m)      │               \u001b[38;5;34m0\u001b[0m │\n",
       "├──────────────────────────────────────┼─────────────────────────────┼─────────────────┤\n",
       "│ max_pooling3d_2 (\u001b[38;5;33mMaxPooling3D\u001b[0m)       │ (\u001b[38;5;45mNone\u001b[0m, \u001b[38;5;34m75\u001b[0m, \u001b[38;5;34m5\u001b[0m, \u001b[38;5;34m17\u001b[0m, \u001b[38;5;34m75\u001b[0m)       │               \u001b[38;5;34m0\u001b[0m │\n",
       "├──────────────────────────────────────┼─────────────────────────────┼─────────────────┤\n",
       "│ time_distributed (\u001b[38;5;33mTimeDistributed\u001b[0m)   │ (\u001b[38;5;45mNone\u001b[0m, \u001b[38;5;34m75\u001b[0m, \u001b[38;5;34m6375\u001b[0m)            │               \u001b[38;5;34m0\u001b[0m │\n",
       "├──────────────────────────────────────┼─────────────────────────────┼─────────────────┤\n",
       "│ bidirectional (\u001b[38;5;33mBidirectional\u001b[0m)        │ (\u001b[38;5;45mNone\u001b[0m, \u001b[38;5;34m75\u001b[0m, \u001b[38;5;34m256\u001b[0m)             │       \u001b[38;5;34m6,660,096\u001b[0m │\n",
       "├──────────────────────────────────────┼─────────────────────────────┼─────────────────┤\n",
       "│ dropout (\u001b[38;5;33mDropout\u001b[0m)                    │ (\u001b[38;5;45mNone\u001b[0m, \u001b[38;5;34m75\u001b[0m, \u001b[38;5;34m256\u001b[0m)             │               \u001b[38;5;34m0\u001b[0m │\n",
       "├──────────────────────────────────────┼─────────────────────────────┼─────────────────┤\n",
       "│ bidirectional_1 (\u001b[38;5;33mBidirectional\u001b[0m)      │ (\u001b[38;5;45mNone\u001b[0m, \u001b[38;5;34m75\u001b[0m, \u001b[38;5;34m256\u001b[0m)             │         \u001b[38;5;34m394,240\u001b[0m │\n",
       "├──────────────────────────────────────┼─────────────────────────────┼─────────────────┤\n",
       "│ dropout_1 (\u001b[38;5;33mDropout\u001b[0m)                  │ (\u001b[38;5;45mNone\u001b[0m, \u001b[38;5;34m75\u001b[0m, \u001b[38;5;34m256\u001b[0m)             │               \u001b[38;5;34m0\u001b[0m │\n",
       "├──────────────────────────────────────┼─────────────────────────────┼─────────────────┤\n",
       "│ dense (\u001b[38;5;33mDense\u001b[0m)                        │ (\u001b[38;5;45mNone\u001b[0m, \u001b[38;5;34m75\u001b[0m, \u001b[38;5;34m41\u001b[0m)              │          \u001b[38;5;34m10,537\u001b[0m │\n",
       "└──────────────────────────────────────┴─────────────────────────────┴─────────────────┘\n"
      ]
     },
     "metadata": {},
     "output_type": "display_data"
    },
    {
     "data": {
      "text/html": [
       "<pre style=\"white-space:pre;overflow-x:auto;line-height:normal;font-family:Menlo,'DejaVu Sans Mono',consolas,'Courier New',monospace\"><span style=\"font-weight: bold\"> Total params: </span><span style=\"color: #00af00; text-decoration-color: #00af00\">8,471,924</span> (32.32 MB)\n",
       "</pre>\n"
      ],
      "text/plain": [
       "\u001b[1m Total params: \u001b[0m\u001b[38;5;34m8,471,924\u001b[0m (32.32 MB)\n"
      ]
     },
     "metadata": {},
     "output_type": "display_data"
    },
    {
     "data": {
      "text/html": [
       "<pre style=\"white-space:pre;overflow-x:auto;line-height:normal;font-family:Menlo,'DejaVu Sans Mono',consolas,'Courier New',monospace\"><span style=\"font-weight: bold\"> Trainable params: </span><span style=\"color: #00af00; text-decoration-color: #00af00\">8,471,924</span> (32.32 MB)\n",
       "</pre>\n"
      ],
      "text/plain": [
       "\u001b[1m Trainable params: \u001b[0m\u001b[38;5;34m8,471,924\u001b[0m (32.32 MB)\n"
      ]
     },
     "metadata": {},
     "output_type": "display_data"
    },
    {
     "data": {
      "text/html": [
       "<pre style=\"white-space:pre;overflow-x:auto;line-height:normal;font-family:Menlo,'DejaVu Sans Mono',consolas,'Courier New',monospace\"><span style=\"font-weight: bold\"> Non-trainable params: </span><span style=\"color: #00af00; text-decoration-color: #00af00\">0</span> (0.00 B)\n",
       "</pre>\n"
      ],
      "text/plain": [
       "\u001b[1m Non-trainable params: \u001b[0m\u001b[38;5;34m0\u001b[0m (0.00 B)\n"
      ]
     },
     "metadata": {},
     "output_type": "display_data"
    }
   ],
   "source": [
    "model.summary()"
   ]
  },
  {
   "cell_type": "code",
   "execution_count": 29,
   "id": "558ea038-7c88-45d1-b18b-574689a68820",
   "metadata": {},
   "outputs": [
    {
     "name": "stdout",
     "output_type": "stream",
     "text": [
      "\u001b[1m1/1\u001b[0m \u001b[32m━━━━━━━━━━━━━━━━━━━━\u001b[0m\u001b[37m\u001b[0m \u001b[1m5s\u001b[0m 5s/step\n"
     ]
    }
   ],
   "source": [
    "yhat = model.predict(val[0])"
   ]
  },
  {
   "cell_type": "code",
   "execution_count": 30,
   "id": "5cf82ea1-2582-4368-ad39-97bbcec25bad",
   "metadata": {},
   "outputs": [
    {
     "data": {
      "text/plain": [
       "<tf.Tensor: shape=(), dtype=string, numpy=b'88888888888wwwwwwwwwwwwwwwwwwwwwwwwwwwwwwwwwwwwwwwwwwwwwwwwwwwwwwcccccccccc'>"
      ]
     },
     "execution_count": 30,
     "metadata": {},
     "output_type": "execute_result"
    }
   ],
   "source": [
    "tf.strings.reduce_join([num_to_char(x) for x in tf.argmax(yhat[0],axis=1)])\n"
   ]
  },
  {
   "cell_type": "code",
   "execution_count": 31,
   "id": "6a6fc65e-3712-459d-a99e-072ee0baf238",
   "metadata": {},
   "outputs": [
    {
     "data": {
      "text/plain": [
       "<tf.Tensor: shape=(), dtype=string, numpy=b'88888888888wwwwwwwwwwwwwwwwwwwwwwwwwwwwwwwwwwwwwwwwwwwwwwwwwwwwwwcccccccccc'>"
      ]
     },
     "execution_count": 31,
     "metadata": {},
     "output_type": "execute_result"
    }
   ],
   "source": [
    "tf.strings.reduce_join([num_to_char(tf.argmax(x)) for x in yhat[0]])"
   ]
  },
  {
   "cell_type": "code",
   "execution_count": 32,
   "id": "c13b53d2-6b5f-428c-8aea-89b69474f1d4",
   "metadata": {},
   "outputs": [
    {
     "data": {
      "text/plain": [
       "(None, 75, 46, 140, 1)"
      ]
     },
     "execution_count": 32,
     "metadata": {},
     "output_type": "execute_result"
    }
   ],
   "source": [
    "model.input_shape\n"
   ]
  },
  {
   "cell_type": "code",
   "execution_count": 33,
   "id": "895042c7-3e92-4393-a371-13ee56bcefae",
   "metadata": {},
   "outputs": [
    {
     "data": {
      "text/plain": [
       "(None, 75, 41)"
      ]
     },
     "execution_count": 33,
     "metadata": {},
     "output_type": "execute_result"
    }
   ],
   "source": [
    "model.output_shape\n"
   ]
  },
  {
   "cell_type": "code",
   "execution_count": 34,
   "id": "dc0d361f-a93c-4487-ab7c-ee6b51284809",
   "metadata": {},
   "outputs": [],
   "source": [
    "def scheduler(epoch, lr):\n",
    "    if epoch < 30:\n",
    "        return lr\n",
    "    else:\n",
    "        return lr * tf.math.exp(-0.1)"
   ]
  },
  {
   "cell_type": "code",
   "execution_count": null,
   "id": "a051a50c-72dd-4c00-a8c8-315f97db74b0",
   "metadata": {},
   "outputs": [],
   "source": []
  },
  {
   "cell_type": "code",
   "execution_count": 35,
   "id": "1bc8cddc-4712-43f8-a47d-15368009086f",
   "metadata": {},
   "outputs": [],
   "source": [
    "def CTCLoss(y_true, y_pred):\n",
    "    batch_len = tf.cast(tf.shape(y_true)[0], dtype=\"int64\")\n",
    "    input_length = tf.cast(tf.shape(y_pred)[1], dtype=\"int64\")\n",
    "    label_length = tf.cast(tf.shape(y_true)[1], dtype=\"int64\")\n",
    "\n",
    "    input_length = input_length * tf.ones(shape=(batch_len, 1), dtype=\"int64\")\n",
    "    label_length = label_length * tf.ones(shape=(batch_len, 1), dtype=\"int64\")\n",
    "\n",
    "    loss = tf.keras.backend.ctc_batch_cost(y_true, y_pred, input_length, label_length)\n",
    "    return loss\n"
   ]
  },
  {
   "cell_type": "code",
   "execution_count": 33,
   "id": "3526fa59-3d62-4654-8be8-556020ab0bd7",
   "metadata": {},
   "outputs": [
    {
     "ename": "NameError",
     "evalue": "name 'batch_len' is not defined",
     "output_type": "error",
     "traceback": [
      "\u001b[1;31m---------------------------------------------------------------------------\u001b[0m",
      "\u001b[1;31mNameError\u001b[0m                                 Traceback (most recent call last)",
      "Cell \u001b[1;32mIn[33], line 1\u001b[0m\n\u001b[1;32m----> 1\u001b[0m \u001b[38;5;28mprint\u001b[39m(batch_len)\n",
      "\u001b[1;31mNameError\u001b[0m: name 'batch_len' is not defined"
     ]
    }
   ],
   "source": [
    "print(batch_len)"
   ]
  },
  {
   "cell_type": "code",
   "execution_count": 36,
   "id": "b2947524-1cd6-4602-86ac-eb5de6719a59",
   "metadata": {},
   "outputs": [],
   "source": [
    "def CTCLoss(y_true, y_pred):\n",
    "    batch_len = tf.shape(y_true)[0]\n",
    "    input_length = tf.shape(y_pred)[1]  # Time steps (should be 75)\n",
    "    label_length = tf.shape(y_true)[1]  # Length of the labels\n",
    "\n",
    "    input_length = tf.fill([batch_len, 1], input_length)  # Ensure correct shape\n",
    "    label_length = tf.fill([batch_len, 1], label_length)\n",
    "\n",
    "    loss = tf.keras.backend.ctc_batch_cost(y_true, y_pred, input_length, label_length)\n",
    "    return loss\n"
   ]
  },
  {
   "cell_type": "code",
   "execution_count": 37,
   "id": "a5a4f587-c7d7-40a1-9c4c-c9e3a7fd8af5",
   "metadata": {},
   "outputs": [],
   "source": [
    "class ProduceExample(tf.keras.callbacks.Callback): \n",
    "    def __init__(self, dataset) -> None: \n",
    "        self.dataset = dataset.as_numpy_iterator()\n",
    "    \n",
    "    def on_epoch_end(self, epoch, logs=None) -> None:\n",
    "        data = self.dataset.next()\n",
    "        yhat = self.model.predict(data[0])\n",
    "        decoded = tf.keras.backend.ctc_decode(yhat, input_length=tf.fill(yhat.shape[0], 75), greedy=False)[0][0].numpy()\n",
    "        for x in range(len(yhat)):           \n",
    "            print('Original:', tf.strings.reduce_join(num_to_char(data[1][x])).numpy().decode('utf-8'))\n",
    "            print('Prediction:', tf.strings.reduce_join(num_to_char(decoded[x])).numpy().decode('utf-8'))\n",
    "            print('~'*100)"
   ]
  },
  {
   "cell_type": "code",
   "execution_count": 38,
   "id": "fb8de099-563f-47a9-a03a-addd0badf993",
   "metadata": {},
   "outputs": [],
   "source": [
    "model.compile(optimizer=Adam(learning_rate=0.0001), loss=CTCLoss)"
   ]
  },
  {
   "cell_type": "code",
   "execution_count": 39,
   "id": "a8ca9da7-7a56-40ac-88e3-e4245446dc7c",
   "metadata": {},
   "outputs": [],
   "source": [
    "checkpoint_callback = ModelCheckpoint(os.path.join('models', 'checkpoint.weights.h5'), monitor='loss', save_weights_only=True)"
   ]
  },
  {
   "cell_type": "code",
   "execution_count": 40,
   "id": "44413c3e-8082-481d-b1c4-5de511dfc272",
   "metadata": {},
   "outputs": [],
   "source": [
    "schedule_callback = LearningRateScheduler(scheduler)\n"
   ]
  },
  {
   "cell_type": "code",
   "execution_count": 41,
   "id": "ced674c0-0a79-47fc-b9eb-fcc9b8ca9351",
   "metadata": {},
   "outputs": [],
   "source": [
    "example_callback = ProduceExample(test)\n"
   ]
  },
  {
   "cell_type": "code",
   "execution_count": 42,
   "id": "74c1ba79-25c3-4a64-8a0a-6b081245f3b3",
   "metadata": {},
   "outputs": [
    {
     "name": "stdout",
     "output_type": "stream",
     "text": [
      "Name: tensorflow\n",
      "Version: 2.16.1\n",
      "Summary: TensorFlow is an open source machine learning framework for everyone.\n",
      "Home-page: https://www.tensorflow.org/\n",
      "Author: Google Inc.\n",
      "Author-email: packages@tensorflow.org\n",
      "License: Apache 2.0\n",
      "Location: C:\\Users\\vivek\\anaconda3\\Lib\\site-packages\n",
      "Requires: tensorflow-intel\n",
      "Required-by: tf_keras\n",
      "Note: you may need to restart the kernel to use updated packages.\n"
     ]
    }
   ],
   "source": [
    "pip show tensorflow\n"
   ]
  },
  {
   "cell_type": "code",
   "execution_count": 43,
   "id": "3e8d2b20-68e8-42d3-a8c6-2cf9f2d97800",
   "metadata": {},
   "outputs": [
    {
     "name": "stdout",
     "output_type": "stream",
     "text": [
      "Epoch 1/100\n",
      "WARNING:tensorflow:From C:\\Users\\vivek\\anaconda3\\Lib\\site-packages\\keras\\src\\legacy\\backend.py:666: The name tf.nn.ctc_loss is deprecated. Please use tf.compat.v1.nn.ctc_loss instead.\n",
      "\n"
     ]
    },
    {
     "ename": "InvalidArgumentError",
     "evalue": "Graph execution error:\n\nDetected at node sequential_1/time_distributed_1/Reshape_74 defined at (most recent call last):\n  File \"<frozen runpy>\", line 198, in _run_module_as_main\n\n  File \"<frozen runpy>\", line 88, in _run_code\n\n  File \"C:\\Users\\vivek\\anaconda3\\Lib\\site-packages\\ipykernel_launcher.py\", line 17, in <module>\n\n  File \"C:\\Users\\vivek\\anaconda3\\Lib\\site-packages\\traitlets\\config\\application.py\", line 992, in launch_instance\n\n  File \"C:\\Users\\vivek\\anaconda3\\Lib\\site-packages\\ipykernel\\kernelapp.py\", line 701, in start\n\n  File \"C:\\Users\\vivek\\anaconda3\\Lib\\site-packages\\tornado\\platform\\asyncio.py\", line 195, in start\n\n  File \"C:\\Users\\vivek\\anaconda3\\Lib\\asyncio\\windows_events.py\", line 321, in run_forever\n\n  File \"C:\\Users\\vivek\\anaconda3\\Lib\\asyncio\\base_events.py\", line 607, in run_forever\n\n  File \"C:\\Users\\vivek\\anaconda3\\Lib\\asyncio\\base_events.py\", line 1922, in _run_once\n\n  File \"C:\\Users\\vivek\\anaconda3\\Lib\\asyncio\\events.py\", line 80, in _run\n\n  File \"C:\\Users\\vivek\\anaconda3\\Lib\\site-packages\\ipykernel\\kernelbase.py\", line 534, in dispatch_queue\n\n  File \"C:\\Users\\vivek\\anaconda3\\Lib\\site-packages\\ipykernel\\kernelbase.py\", line 523, in process_one\n\n  File \"C:\\Users\\vivek\\anaconda3\\Lib\\site-packages\\ipykernel\\kernelbase.py\", line 429, in dispatch_shell\n\n  File \"C:\\Users\\vivek\\anaconda3\\Lib\\site-packages\\ipykernel\\kernelbase.py\", line 767, in execute_request\n\n  File \"C:\\Users\\vivek\\anaconda3\\Lib\\site-packages\\ipykernel\\ipkernel.py\", line 429, in do_execute\n\n  File \"C:\\Users\\vivek\\anaconda3\\Lib\\site-packages\\ipykernel\\zmqshell.py\", line 549, in run_cell\n\n  File \"C:\\Users\\vivek\\anaconda3\\Lib\\site-packages\\IPython\\core\\interactiveshell.py\", line 3051, in run_cell\n\n  File \"C:\\Users\\vivek\\anaconda3\\Lib\\site-packages\\IPython\\core\\interactiveshell.py\", line 3106, in _run_cell\n\n  File \"C:\\Users\\vivek\\anaconda3\\Lib\\site-packages\\IPython\\core\\async_helpers.py\", line 129, in _pseudo_sync_runner\n\n  File \"C:\\Users\\vivek\\anaconda3\\Lib\\site-packages\\IPython\\core\\interactiveshell.py\", line 3311, in run_cell_async\n\n  File \"C:\\Users\\vivek\\anaconda3\\Lib\\site-packages\\IPython\\core\\interactiveshell.py\", line 3493, in run_ast_nodes\n\n  File \"C:\\Users\\vivek\\anaconda3\\Lib\\site-packages\\IPython\\core\\interactiveshell.py\", line 3553, in run_code\n\n  File \"C:\\Users\\vivek\\AppData\\Local\\Temp\\ipykernel_6292\\3536403359.py\", line 1, in <module>\n\n  File \"C:\\Users\\vivek\\anaconda3\\Lib\\site-packages\\keras\\src\\utils\\traceback_utils.py\", line 117, in error_handler\n\n  File \"C:\\Users\\vivek\\anaconda3\\Lib\\site-packages\\keras\\src\\backend\\tensorflow\\trainer.py\", line 329, in fit\n\n  File \"C:\\Users\\vivek\\anaconda3\\Lib\\site-packages\\keras\\src\\backend\\tensorflow\\trainer.py\", line 122, in one_step_on_iterator\n\n  File \"C:\\Users\\vivek\\anaconda3\\Lib\\site-packages\\keras\\src\\backend\\tensorflow\\trainer.py\", line 110, in one_step_on_data\n\n  File \"C:\\Users\\vivek\\anaconda3\\Lib\\site-packages\\keras\\src\\backend\\tensorflow\\trainer.py\", line 57, in train_step\n\n  File \"C:\\Users\\vivek\\anaconda3\\Lib\\site-packages\\keras\\src\\utils\\traceback_utils.py\", line 117, in error_handler\n\n  File \"C:\\Users\\vivek\\anaconda3\\Lib\\site-packages\\keras\\src\\layers\\layer.py\", line 826, in __call__\n\n  File \"C:\\Users\\vivek\\anaconda3\\Lib\\site-packages\\keras\\src\\utils\\traceback_utils.py\", line 117, in error_handler\n\n  File \"C:\\Users\\vivek\\anaconda3\\Lib\\site-packages\\keras\\src\\ops\\operation.py\", line 48, in __call__\n\n  File \"C:\\Users\\vivek\\anaconda3\\Lib\\site-packages\\keras\\src\\utils\\traceback_utils.py\", line 156, in error_handler\n\n  File \"C:\\Users\\vivek\\anaconda3\\Lib\\site-packages\\keras\\src\\models\\sequential.py\", line 206, in call\n\n  File \"C:\\Users\\vivek\\anaconda3\\Lib\\site-packages\\keras\\src\\models\\functional.py\", line 199, in call\n\n  File \"C:\\Users\\vivek\\anaconda3\\Lib\\site-packages\\keras\\src\\ops\\function.py\", line 151, in _run_through_graph\n\n  File \"C:\\Users\\vivek\\anaconda3\\Lib\\site-packages\\keras\\src\\models\\functional.py\", line 583, in call\n\n  File \"C:\\Users\\vivek\\anaconda3\\Lib\\site-packages\\keras\\src\\utils\\traceback_utils.py\", line 117, in error_handler\n\n  File \"C:\\Users\\vivek\\anaconda3\\Lib\\site-packages\\keras\\src\\layers\\layer.py\", line 826, in __call__\n\n  File \"C:\\Users\\vivek\\anaconda3\\Lib\\site-packages\\keras\\src\\utils\\traceback_utils.py\", line 117, in error_handler\n\n  File \"C:\\Users\\vivek\\anaconda3\\Lib\\site-packages\\keras\\src\\ops\\operation.py\", line 48, in __call__\n\n  File \"C:\\Users\\vivek\\anaconda3\\Lib\\site-packages\\keras\\src\\utils\\traceback_utils.py\", line 156, in error_handler\n\n  File \"C:\\Users\\vivek\\anaconda3\\Lib\\site-packages\\keras\\src\\layers\\rnn\\time_distributed.py\", line 108, in call\n\n  File \"C:\\Users\\vivek\\anaconda3\\Lib\\site-packages\\keras\\src\\layers\\rnn\\time_distributed.py\", line 108, in <listcomp>\n\n  File \"C:\\Users\\vivek\\anaconda3\\Lib\\site-packages\\keras\\src\\layers\\rnn\\time_distributed.py\", line 102, in step_function\n\n  File \"C:\\Users\\vivek\\anaconda3\\Lib\\site-packages\\keras\\src\\layers\\reshaping\\flatten.py\", line 54, in call\n\n  File \"C:\\Users\\vivek\\anaconda3\\Lib\\site-packages\\keras\\src\\ops\\numpy.py\", line 4527, in reshape\n\n  File \"C:\\Users\\vivek\\anaconda3\\Lib\\site-packages\\keras\\src\\backend\\tensorflow\\numpy.py\", line 1618, in reshape\n\nOnly one input size may be -1, not both 0 and 1\n\t [[{{node sequential_1/time_distributed_1/Reshape_74}}]] [Op:__inference_one_step_on_iterator_31226]",
     "output_type": "error",
     "traceback": [
      "\u001b[1;31m---------------------------------------------------------------------------\u001b[0m",
      "\u001b[1;31mInvalidArgumentError\u001b[0m                      Traceback (most recent call last)",
      "Cell \u001b[1;32mIn[43], line 1\u001b[0m\n\u001b[1;32m----> 1\u001b[0m model\u001b[38;5;241m.\u001b[39mfit(train, validation_data\u001b[38;5;241m=\u001b[39mtest, epochs\u001b[38;5;241m=\u001b[39m\u001b[38;5;241m100\u001b[39m, callbacks\u001b[38;5;241m=\u001b[39m[checkpoint_callback, schedule_callback, example_callback])\n",
      "File \u001b[1;32m~\\anaconda3\\Lib\\site-packages\\keras\\src\\utils\\traceback_utils.py:122\u001b[0m, in \u001b[0;36mfilter_traceback.<locals>.error_handler\u001b[1;34m(*args, **kwargs)\u001b[0m\n\u001b[0;32m    119\u001b[0m     filtered_tb \u001b[38;5;241m=\u001b[39m _process_traceback_frames(e\u001b[38;5;241m.\u001b[39m__traceback__)\n\u001b[0;32m    120\u001b[0m     \u001b[38;5;66;03m# To get the full stack trace, call:\u001b[39;00m\n\u001b[0;32m    121\u001b[0m     \u001b[38;5;66;03m# `keras.config.disable_traceback_filtering()`\u001b[39;00m\n\u001b[1;32m--> 122\u001b[0m     \u001b[38;5;28;01mraise\u001b[39;00m e\u001b[38;5;241m.\u001b[39mwith_traceback(filtered_tb) \u001b[38;5;28;01mfrom\u001b[39;00m \u001b[38;5;28;01mNone\u001b[39;00m\n\u001b[0;32m    123\u001b[0m \u001b[38;5;28;01mfinally\u001b[39;00m:\n\u001b[0;32m    124\u001b[0m     \u001b[38;5;28;01mdel\u001b[39;00m filtered_tb\n",
      "File \u001b[1;32m~\\anaconda3\\Lib\\site-packages\\tensorflow\\python\\eager\\execute.py:53\u001b[0m, in \u001b[0;36mquick_execute\u001b[1;34m(op_name, num_outputs, inputs, attrs, ctx, name)\u001b[0m\n\u001b[0;32m     51\u001b[0m \u001b[38;5;28;01mtry\u001b[39;00m:\n\u001b[0;32m     52\u001b[0m   ctx\u001b[38;5;241m.\u001b[39mensure_initialized()\n\u001b[1;32m---> 53\u001b[0m   tensors \u001b[38;5;241m=\u001b[39m pywrap_tfe\u001b[38;5;241m.\u001b[39mTFE_Py_Execute(ctx\u001b[38;5;241m.\u001b[39m_handle, device_name, op_name,\n\u001b[0;32m     54\u001b[0m                                       inputs, attrs, num_outputs)\n\u001b[0;32m     55\u001b[0m \u001b[38;5;28;01mexcept\u001b[39;00m core\u001b[38;5;241m.\u001b[39m_NotOkStatusException \u001b[38;5;28;01mas\u001b[39;00m e:\n\u001b[0;32m     56\u001b[0m   \u001b[38;5;28;01mif\u001b[39;00m name \u001b[38;5;129;01mis\u001b[39;00m \u001b[38;5;129;01mnot\u001b[39;00m \u001b[38;5;28;01mNone\u001b[39;00m:\n",
      "\u001b[1;31mInvalidArgumentError\u001b[0m: Graph execution error:\n\nDetected at node sequential_1/time_distributed_1/Reshape_74 defined at (most recent call last):\n  File \"<frozen runpy>\", line 198, in _run_module_as_main\n\n  File \"<frozen runpy>\", line 88, in _run_code\n\n  File \"C:\\Users\\vivek\\anaconda3\\Lib\\site-packages\\ipykernel_launcher.py\", line 17, in <module>\n\n  File \"C:\\Users\\vivek\\anaconda3\\Lib\\site-packages\\traitlets\\config\\application.py\", line 992, in launch_instance\n\n  File \"C:\\Users\\vivek\\anaconda3\\Lib\\site-packages\\ipykernel\\kernelapp.py\", line 701, in start\n\n  File \"C:\\Users\\vivek\\anaconda3\\Lib\\site-packages\\tornado\\platform\\asyncio.py\", line 195, in start\n\n  File \"C:\\Users\\vivek\\anaconda3\\Lib\\asyncio\\windows_events.py\", line 321, in run_forever\n\n  File \"C:\\Users\\vivek\\anaconda3\\Lib\\asyncio\\base_events.py\", line 607, in run_forever\n\n  File \"C:\\Users\\vivek\\anaconda3\\Lib\\asyncio\\base_events.py\", line 1922, in _run_once\n\n  File \"C:\\Users\\vivek\\anaconda3\\Lib\\asyncio\\events.py\", line 80, in _run\n\n  File \"C:\\Users\\vivek\\anaconda3\\Lib\\site-packages\\ipykernel\\kernelbase.py\", line 534, in dispatch_queue\n\n  File \"C:\\Users\\vivek\\anaconda3\\Lib\\site-packages\\ipykernel\\kernelbase.py\", line 523, in process_one\n\n  File \"C:\\Users\\vivek\\anaconda3\\Lib\\site-packages\\ipykernel\\kernelbase.py\", line 429, in dispatch_shell\n\n  File \"C:\\Users\\vivek\\anaconda3\\Lib\\site-packages\\ipykernel\\kernelbase.py\", line 767, in execute_request\n\n  File \"C:\\Users\\vivek\\anaconda3\\Lib\\site-packages\\ipykernel\\ipkernel.py\", line 429, in do_execute\n\n  File \"C:\\Users\\vivek\\anaconda3\\Lib\\site-packages\\ipykernel\\zmqshell.py\", line 549, in run_cell\n\n  File \"C:\\Users\\vivek\\anaconda3\\Lib\\site-packages\\IPython\\core\\interactiveshell.py\", line 3051, in run_cell\n\n  File \"C:\\Users\\vivek\\anaconda3\\Lib\\site-packages\\IPython\\core\\interactiveshell.py\", line 3106, in _run_cell\n\n  File \"C:\\Users\\vivek\\anaconda3\\Lib\\site-packages\\IPython\\core\\async_helpers.py\", line 129, in _pseudo_sync_runner\n\n  File \"C:\\Users\\vivek\\anaconda3\\Lib\\site-packages\\IPython\\core\\interactiveshell.py\", line 3311, in run_cell_async\n\n  File \"C:\\Users\\vivek\\anaconda3\\Lib\\site-packages\\IPython\\core\\interactiveshell.py\", line 3493, in run_ast_nodes\n\n  File \"C:\\Users\\vivek\\anaconda3\\Lib\\site-packages\\IPython\\core\\interactiveshell.py\", line 3553, in run_code\n\n  File \"C:\\Users\\vivek\\AppData\\Local\\Temp\\ipykernel_6292\\3536403359.py\", line 1, in <module>\n\n  File \"C:\\Users\\vivek\\anaconda3\\Lib\\site-packages\\keras\\src\\utils\\traceback_utils.py\", line 117, in error_handler\n\n  File \"C:\\Users\\vivek\\anaconda3\\Lib\\site-packages\\keras\\src\\backend\\tensorflow\\trainer.py\", line 329, in fit\n\n  File \"C:\\Users\\vivek\\anaconda3\\Lib\\site-packages\\keras\\src\\backend\\tensorflow\\trainer.py\", line 122, in one_step_on_iterator\n\n  File \"C:\\Users\\vivek\\anaconda3\\Lib\\site-packages\\keras\\src\\backend\\tensorflow\\trainer.py\", line 110, in one_step_on_data\n\n  File \"C:\\Users\\vivek\\anaconda3\\Lib\\site-packages\\keras\\src\\backend\\tensorflow\\trainer.py\", line 57, in train_step\n\n  File \"C:\\Users\\vivek\\anaconda3\\Lib\\site-packages\\keras\\src\\utils\\traceback_utils.py\", line 117, in error_handler\n\n  File \"C:\\Users\\vivek\\anaconda3\\Lib\\site-packages\\keras\\src\\layers\\layer.py\", line 826, in __call__\n\n  File \"C:\\Users\\vivek\\anaconda3\\Lib\\site-packages\\keras\\src\\utils\\traceback_utils.py\", line 117, in error_handler\n\n  File \"C:\\Users\\vivek\\anaconda3\\Lib\\site-packages\\keras\\src\\ops\\operation.py\", line 48, in __call__\n\n  File \"C:\\Users\\vivek\\anaconda3\\Lib\\site-packages\\keras\\src\\utils\\traceback_utils.py\", line 156, in error_handler\n\n  File \"C:\\Users\\vivek\\anaconda3\\Lib\\site-packages\\keras\\src\\models\\sequential.py\", line 206, in call\n\n  File \"C:\\Users\\vivek\\anaconda3\\Lib\\site-packages\\keras\\src\\models\\functional.py\", line 199, in call\n\n  File \"C:\\Users\\vivek\\anaconda3\\Lib\\site-packages\\keras\\src\\ops\\function.py\", line 151, in _run_through_graph\n\n  File \"C:\\Users\\vivek\\anaconda3\\Lib\\site-packages\\keras\\src\\models\\functional.py\", line 583, in call\n\n  File \"C:\\Users\\vivek\\anaconda3\\Lib\\site-packages\\keras\\src\\utils\\traceback_utils.py\", line 117, in error_handler\n\n  File \"C:\\Users\\vivek\\anaconda3\\Lib\\site-packages\\keras\\src\\layers\\layer.py\", line 826, in __call__\n\n  File \"C:\\Users\\vivek\\anaconda3\\Lib\\site-packages\\keras\\src\\utils\\traceback_utils.py\", line 117, in error_handler\n\n  File \"C:\\Users\\vivek\\anaconda3\\Lib\\site-packages\\keras\\src\\ops\\operation.py\", line 48, in __call__\n\n  File \"C:\\Users\\vivek\\anaconda3\\Lib\\site-packages\\keras\\src\\utils\\traceback_utils.py\", line 156, in error_handler\n\n  File \"C:\\Users\\vivek\\anaconda3\\Lib\\site-packages\\keras\\src\\layers\\rnn\\time_distributed.py\", line 108, in call\n\n  File \"C:\\Users\\vivek\\anaconda3\\Lib\\site-packages\\keras\\src\\layers\\rnn\\time_distributed.py\", line 108, in <listcomp>\n\n  File \"C:\\Users\\vivek\\anaconda3\\Lib\\site-packages\\keras\\src\\layers\\rnn\\time_distributed.py\", line 102, in step_function\n\n  File \"C:\\Users\\vivek\\anaconda3\\Lib\\site-packages\\keras\\src\\layers\\reshaping\\flatten.py\", line 54, in call\n\n  File \"C:\\Users\\vivek\\anaconda3\\Lib\\site-packages\\keras\\src\\ops\\numpy.py\", line 4527, in reshape\n\n  File \"C:\\Users\\vivek\\anaconda3\\Lib\\site-packages\\keras\\src\\backend\\tensorflow\\numpy.py\", line 1618, in reshape\n\nOnly one input size may be -1, not both 0 and 1\n\t [[{{node sequential_1/time_distributed_1/Reshape_74}}]] [Op:__inference_one_step_on_iterator_31226]"
     ]
    }
   ],
   "source": [
    "model.fit(train, validation_data=test, epochs=100, callbacks=[checkpoint_callback, schedule_callback, example_callback])"
   ]
  },
  {
   "cell_type": "code",
   "execution_count": 44,
   "id": "c767cb8e-dcce-4295-a431-3179ba5614ac",
   "metadata": {
    "scrolled": true
   },
   "outputs": [
    {
     "name": "stderr",
     "output_type": "stream",
     "text": [
      "Downloading...\n",
      "From (original): https://drive.google.com/uc?id=1vWscXs4Vt0a_1IH1-ct2TCgXAZT-N3_Y\n",
      "From (redirected): https://drive.google.com/uc?id=1vWscXs4Vt0a_1IH1-ct2TCgXAZT-N3_Y&confirm=t&uuid=733ff764-f56d-46b0-8ebc-104737373958\n",
      "To: C:\\Users\\vivek\\checkpoints.zip\n",
      "\n",
      "  0%|                                                                                      | 0.00/94.5M [00:00<?, ?B/s]\u001b[A\n",
      "  1%|▍                                                                             | 524k/94.5M [00:00<00:49, 1.88MB/s]\u001b[A\n",
      "  2%|█▎                                                                           | 1.57M/94.5M [00:00<00:20, 4.59MB/s]\u001b[A\n",
      "  3%|██▌                                                                          | 3.15M/94.5M [00:00<00:13, 6.97MB/s]\u001b[A\n",
      "  5%|███▊                                                                         | 4.72M/94.5M [00:01<00:19, 4.60MB/s]\u001b[A\n",
      "  7%|█████▏                                                                       | 6.29M/94.5M [00:01<00:14, 5.98MB/s]\u001b[A\n",
      "  8%|█████▉                                                                       | 7.34M/94.5M [00:01<00:20, 4.25MB/s]\u001b[A\n",
      "  9%|██████▊                                                                      | 8.39M/94.5M [00:02<00:26, 3.24MB/s]\u001b[A\n",
      "  9%|███████▎                                                                     | 8.91M/94.5M [00:02<00:28, 3.04MB/s]\u001b[A\n",
      " 10%|███████▋                                                                     | 9.44M/94.5M [00:02<00:35, 2.41MB/s]\u001b[A\n",
      " 11%|████████                                                                     | 9.96M/94.5M [00:03<00:41, 2.03MB/s]\u001b[A\n",
      " 11%|████████▌                                                                    | 10.5M/94.5M [00:03<00:40, 2.09MB/s]\u001b[A\n",
      " 12%|█████████▍                                                                   | 11.5M/94.5M [00:03<00:27, 3.06MB/s]\u001b[A\n",
      " 13%|██████████▎                                                                  | 12.6M/94.5M [00:03<00:20, 3.96MB/s]\u001b[A\n",
      " 14%|███████████                                                                  | 13.6M/94.5M [00:03<00:16, 4.97MB/s]\u001b[A\n",
      " 16%|███████████▉                                                                 | 14.7M/94.5M [00:04<00:25, 3.10MB/s]\u001b[A\n",
      " 17%|████████████▊                                                                | 15.7M/94.5M [00:04<00:19, 3.98MB/s]\u001b[A\n",
      " 18%|█████████████▋                                                               | 16.8M/94.5M [00:04<00:15, 4.91MB/s]\u001b[A\n",
      " 19%|██████████████▌                                                              | 17.8M/94.5M [00:04<00:13, 5.76MB/s]\u001b[A\n",
      " 20%|███████████████▍                                                             | 18.9M/94.5M [00:04<00:11, 6.66MB/s]\u001b[A\n",
      " 21%|████████████████▏                                                            | 19.9M/94.5M [00:05<00:19, 3.77MB/s]\u001b[A\n",
      " 23%|█████████████████▌                                                           | 21.5M/94.5M [00:05<00:14, 5.08MB/s]\u001b[A\n",
      " 24%|██████████████████▍                                                          | 22.5M/94.5M [00:06<00:24, 2.94MB/s]\u001b[A\n",
      " 25%|███████████████████▏                                                         | 23.6M/94.5M [00:06<00:19, 3.67MB/s]\u001b[A\n",
      " 26%|████████████████████                                                         | 24.6M/94.5M [00:06<00:15, 4.51MB/s]\u001b[A\n",
      " 28%|█████████████████████▎                                                       | 26.2M/94.5M [00:06<00:11, 5.81MB/s]\u001b[A\n",
      " 29%|██████████████████████▏                                                      | 27.3M/94.5M [00:06<00:14, 4.68MB/s]\u001b[A\n",
      " 30%|███████████████████████                                                      | 28.3M/94.5M [00:07<00:25, 2.56MB/s]\u001b[A\n",
      " 32%|████████████████████████▎                                                    | 29.9M/94.5M [00:08<00:28, 2.30MB/s]\u001b[A\n",
      " 33%|█████████████████████████▋                                                   | 31.5M/94.5M [00:08<00:19, 3.20MB/s]\u001b[A\n",
      " 35%|██████████████████████████▉                                                  | 33.0M/94.5M [00:08<00:14, 4.20MB/s]\u001b[A\n",
      " 36%|███████████████████████████▊                                                 | 34.1M/94.5M [00:08<00:12, 4.89MB/s]\u001b[A\n",
      " 37%|████████████████████████████▋                                                | 35.1M/94.5M [00:09<00:10, 5.60MB/s]\u001b[A\n",
      " 38%|█████████████████████████████▍                                               | 36.2M/94.5M [00:09<00:13, 4.43MB/s]\u001b[A\n",
      " 39%|██████████████████████████████▎                                              | 37.2M/94.5M [00:09<00:11, 5.19MB/s]\u001b[A\n",
      " 41%|███████████████████████████████▏                                             | 38.3M/94.5M [00:09<00:09, 6.03MB/s]\u001b[A\n",
      " 42%|████████████████████████████████▍                                            | 39.8M/94.5M [00:09<00:07, 7.26MB/s]\u001b[A\n",
      " 44%|█████████████████████████████████▊                                           | 41.4M/94.5M [00:09<00:06, 8.36MB/s]\u001b[A\n",
      " 45%|██████████████████████████████████▌                                          | 42.5M/94.5M [00:10<00:13, 3.87MB/s]\u001b[A\n",
      " 47%|███████████████████████████████████▉                                         | 44.0M/94.5M [00:10<00:10, 4.99MB/s]\u001b[A\n",
      " 48%|████████████████████████████████████▊                                        | 45.1M/94.5M [00:11<00:14, 3.42MB/s]\u001b[A\n",
      " 49%|██████████████████████████████████████                                       | 46.7M/94.5M [00:11<00:10, 4.49MB/s]\u001b[A\n",
      " 51%|██████████████████████████████████████▉                                      | 47.7M/94.5M [00:11<00:09, 5.18MB/s]\u001b[A\n",
      " 52%|████████████████████████████████████████▏                                    | 49.3M/94.5M [00:11<00:07, 6.36MB/s]\u001b[A\n",
      " 54%|█████████████████████████████████████████▍                                   | 50.9M/94.5M [00:11<00:05, 7.30MB/s]\u001b[A\n",
      " 55%|██████████████████████████████████████████▎                                  | 51.9M/94.5M [00:12<00:09, 4.72MB/s]\u001b[A\n",
      " 56%|███████████████████████████████████████████▏                                 | 53.0M/94.5M [00:12<00:07, 5.46MB/s]\u001b[A\n",
      " 57%|████████████████████████████████████████████                                 | 54.0M/94.5M [00:12<00:06, 6.05MB/s]\u001b[A\n",
      " 59%|█████████████████████████████████████████████▎                               | 55.6M/94.5M [00:12<00:05, 7.20MB/s]\u001b[A\n",
      " 60%|██████████████████████████████████████████████▌                              | 57.1M/94.5M [00:12<00:04, 8.15MB/s]\u001b[A\n",
      " 62%|███████████████████████████████████████████████▊                             | 58.7M/94.5M [00:13<00:04, 8.89MB/s]\u001b[A\n",
      " 63%|████████████████████████████████████████████████▋                            | 59.8M/94.5M [00:13<00:04, 7.66MB/s]\u001b[A\n",
      " 65%|██████████████████████████████████████████████████                           | 61.3M/94.5M [00:14<00:08, 3.88MB/s]\u001b[A\n",
      " 66%|██████████████████████████████████████████████████▊                          | 62.4M/94.5M [00:14<00:07, 4.44MB/s]\u001b[A\n",
      " 68%|████████████████████████████████████████████████████▏                        | 64.0M/94.5M [00:14<00:05, 5.50MB/s]\u001b[A\n",
      " 69%|█████████████████████████████████████████████████████▍                       | 65.5M/94.5M [00:14<00:04, 6.60MB/s]\u001b[A\n",
      " 70%|██████████████████████████████████████████████████████▎                      | 66.6M/94.5M [00:14<00:03, 7.08MB/s]\u001b[A\n",
      " 72%|███████████████████████████████████████████████████████▏                     | 67.6M/94.5M [00:14<00:03, 7.65MB/s]\u001b[A\n",
      " 73%|███████████████████████████████████████████████████████▉                     | 68.7M/94.5M [00:15<00:04, 5.40MB/s]\u001b[A\n",
      " 74%|████████████████████████████████████████████████████████▊                    | 69.7M/94.5M [00:15<00:04, 6.10MB/s]\u001b[A\n",
      " 75%|██████████████████████████████████████████████████████████                   | 71.3M/94.5M [00:15<00:03, 7.32MB/s]\u001b[A\n",
      " 77%|██████████████████████████████████████████████████████████▉                  | 72.4M/94.5M [00:15<00:02, 7.88MB/s]\u001b[A\n",
      " 78%|███████████████████████████████████████████████████████████▊                 | 73.4M/94.5M [00:15<00:02, 8.29MB/s]\u001b[A\n",
      " 79%|█████████████████████████████████████████████████████████████                | 75.0M/94.5M [00:15<00:02, 9.09MB/s]\u001b[A\n",
      " 81%|██████████████████████████████████████████████████████████████▍              | 76.5M/94.5M [00:16<00:02, 6.30MB/s]\u001b[A\n",
      " 83%|███████████████████████████████████████████████████████████████▋             | 78.1M/94.5M [00:17<00:05, 3.13MB/s]\u001b[A\n",
      " 84%|████████████████████████████████████████████████████████████████▉            | 79.7M/94.5M [00:17<00:03, 4.06MB/s]\u001b[A\n",
      " 86%|██████████████████████████████████████████████████████████████████▏          | 81.3M/94.5M [00:17<00:02, 5.08MB/s]\u001b[A\n",
      " 87%|███████████████████████████████████████████████████████████████████          | 82.3M/94.5M [00:17<00:02, 5.75MB/s]\u001b[A\n",
      " 88%|███████████████████████████████████████████████████████████████████▉         | 83.4M/94.5M [00:17<00:01, 6.46MB/s]\u001b[A\n",
      " 89%|████████████████████████████████████████████████████████████████████▊        | 84.4M/94.5M [00:17<00:01, 7.09MB/s]\u001b[A\n",
      " 90%|█████████████████████████████████████████████████████████████████████▋       | 85.5M/94.5M [00:18<00:01, 5.13MB/s]\u001b[A\n",
      " 92%|██████████████████████████████████████████████████████████████████████▌      | 86.5M/94.5M [00:18<00:01, 5.96MB/s]\u001b[A\n",
      " 93%|███████████████████████████████████████████████████████████████████████▎     | 87.6M/94.5M [00:18<00:02, 3.20MB/s]\u001b[A\n",
      " 94%|████████████████████████████████████████████████████████████████████████▋    | 89.1M/94.5M [00:18<00:01, 4.36MB/s]\u001b[A\n",
      " 96%|█████████████████████████████████████████████████████████████████████████▉   | 90.7M/94.5M [00:19<00:00, 5.52MB/s]\u001b[A\n",
      " 98%|███████████████████████████████████████████████████████████████████████████▏ | 92.3M/94.5M [00:19<00:00, 6.65MB/s]\u001b[A\n",
      "100%|█████████████████████████████████████████████████████████████████████████████| 94.5M/94.5M [00:19<00:00, 4.85MB/s]\u001b[A\n"
     ]
    },
    {
     "data": {
      "text/plain": [
       "['models\\\\checkpoint.index',\n",
       " 'models\\\\__MACOSX/._checkpoint.index',\n",
       " 'models\\\\checkpoint.data-00000-of-00001',\n",
       " 'models\\\\__MACOSX/._checkpoint.data-00000-of-00001',\n",
       " 'models\\\\checkpoint',\n",
       " 'models\\\\__MACOSX/._checkpoint']"
      ]
     },
     "execution_count": 44,
     "metadata": {},
     "output_type": "execute_result"
    }
   ],
   "source": [
    "url = 'https://drive.google.com/uc?id=1vWscXs4Vt0a_1IH1-ct2TCgXAZT-N3_Y'\n",
    "output = 'checkpoints.zip'\n",
    "gdown.download(url, output, quiet=False)\n",
    "gdown.extractall('checkpoints.zip', 'models')"
   ]
  },
  {
   "cell_type": "code",
   "execution_count": 46,
   "id": "8ab9e87d-a061-40f9-900c-4a59c2680926",
   "metadata": {},
   "outputs": [
    {
     "name": "stdout",
     "output_type": "stream",
     "text": [
      "An error occurred: File format not supported: filepath=models\\checkpoint. Keras 3 only supports V3 `.keras` and `.weights.h5` files, or legacy V1/V2 `.h5` files.\n"
     ]
    }
   ],
   "source": [
    "import tensorflow as tf\n",
    "from tensorflow.keras.models import Sequential\n",
    "from tensorflow.keras.layers import Conv3D, Activation, MaxPool3D, TimeDistributed, Flatten, Bidirectional, LSTM, Dropout, Dense\n",
    "from tensorflow.keras.initializers import Orthogonal\n",
    "import os\n",
    "\n",
    "def convert_checkpoint_to_h5(checkpoint_dir, output_file):\n",
    "    # Ensure the checkpoint directory exists\n",
    "    if not os.path.exists(checkpoint_dir):\n",
    "        raise FileNotFoundError(f\"Checkpoint directory {checkpoint_dir} not found\")\n",
    "\n",
    "    # Find the checkpoint file\n",
    "    checkpoint_file = os.path.join(checkpoint_dir, 'checkpoint')\n",
    "    if not os.path.exists(checkpoint_file):\n",
    "        raise FileNotFoundError(f\"Checkpoint file not found in {checkpoint_dir}\")\n",
    "\n",
    "    # Load the checkpoint\n",
    "    latest_checkpoint = tf.train.latest_checkpoint(checkpoint_dir)\n",
    "    if latest_checkpoint is None:\n",
    "        raise ValueError(f\"No checkpoint found in {checkpoint_dir}\")\n",
    "\n",
    "    # Recreate your model architecture\n",
    "    model = Sequential([\n",
    "        Conv3D(128, 3, input_shape=(75, 46, 140, 1), padding='same'),\n",
    "        Activation('relu'),\n",
    "        MaxPool3D((1, 2, 2)),\n",
    "        Conv3D(256, 3, padding='same'),\n",
    "        Activation('relu'),\n",
    "        MaxPool3D((1, 2, 2)),\n",
    "        Conv3D(75, 3, padding='same'),\n",
    "        Activation('relu'),\n",
    "        MaxPool3D((1, 2, 2)),\n",
    "        TimeDistributed(Flatten()),\n",
    "        Bidirectional(LSTM(128, kernel_initializer=Orthogonal(), return_sequences=True)),\n",
    "        Dropout(.5),\n",
    "        Bidirectional(LSTM(128, kernel_initializer=Orthogonal(), return_sequences=True)),\n",
    "        Dropout(.5),\n",
    "        Dense(char_to_num.vocabulary_size() + 1, kernel_initializer='he_normal', activation='softmax')\n",
    "    ])\n",
    "\n",
    "    # Load the weights from the checkpoint\n",
    "    model.load_weights(latest_checkpoint)\n",
    "\n",
    "    # Save the model in .h5 format\n",
    "    model.save(output_file)\n",
    "    print(f\"Model has been converted and saved as {output_file}\")\n",
    "\n",
    "# Usage\n",
    "checkpoint_dir = 'models'\n",
    "output_file = 'my_model_96_epochs.h5'\n",
    "\n",
    "try:\n",
    "    convert_checkpoint_to_h5(checkpoint_dir, output_file)\n",
    "except Exception as e:\n",
    "    print(f\"An error occurred: {str(e)}\")"
   ]
  },
  {
   "cell_type": "code",
   "execution_count": 47,
   "id": "d0a8b07c-9738-4eb1-b5e5-dade50cc5d62",
   "metadata": {},
   "outputs": [
    {
     "name": "stdout",
     "output_type": "stream",
     "text": [
      "Error loading SavedModel: File format not supported: filepath=models. Keras 3 only supports V3 `.keras` files and legacy H5 format files (`.h5` extension). Note that the legacy SavedModel format is not supported by `load_model()` in Keras 3. In order to reload a TensorFlow SavedModel as an inference-only layer in Keras 3, use `keras.layers.TFSMLayer(models, call_endpoint='serving_default')` (note that your `call_endpoint` might have a different name).\n"
     ]
    }
   ],
   "source": [
    "import tensorflow as tf\n",
    "import os\n",
    "\n",
    "def convert_savedmodel_to_h5(saved_model_dir, output_file):\n",
    "    # Ensure the SavedModel directory exists\n",
    "    if not os.path.exists(saved_model_dir):\n",
    "        raise FileNotFoundError(f\"SavedModel directory {saved_model_dir} not found\")\n",
    "\n",
    "    # Load the SavedModel\n",
    "    try:\n",
    "        model = tf.keras.models.load_model(saved_model_dir)\n",
    "    except Exception as e:\n",
    "        print(f\"Error loading SavedModel: {str(e)}\")\n",
    "        return\n",
    "\n",
    "    # Save the model in .h5 format\n",
    "    try:\n",
    "        model.save(output_file, save_format='h5')\n",
    "        print(f\"Model has been converted and saved as {output_file}\")\n",
    "    except Exception as e:\n",
    "        print(f\"Error saving model: {str(e)}\")\n",
    "\n",
    "# Usage\n",
    "saved_model_dir = 'models'\n",
    "output_file = 'my_model_96_epochs.h5'\n",
    "\n",
    "try:\n",
    "    convert_savedmodel_to_h5(saved_model_dir, output_file)\n",
    "except Exception as e:\n",
    "    print(f\"An error occurred: {str(e)}\")"
   ]
  },
  {
   "cell_type": "code",
   "execution_count": 1,
   "id": "fea1f81f-bf18-449e-80b2-0f1e16b8041b",
   "metadata": {},
   "outputs": [
    {
     "name": "stderr",
     "output_type": "stream",
     "text": [
      "C:\\Users\\vivek\\anaconda3\\Lib\\site-packages\\keras\\src\\layers\\convolutional\\base_conv.py:99: UserWarning: Do not pass an `input_shape`/`input_dim` argument to a layer. When using Sequential models, prefer using an `Input(shape)` object as the first layer in the model instead.\n",
      "  super().__init__(\n",
      "WARNING:absl:The `save_format` argument is deprecated in Keras 3. We recommend removing this argument as it can be inferred from the file path. Received: save_format=h5\n",
      "WARNING:absl:You are saving your model as an HDF5 file via `model.save()` or `keras.saving.save_model(model)`. This file format is considered legacy. We recommend using instead the native Keras format, e.g. `model.save('my_model.keras')` or `keras.saving.save_model(model, 'my_model.keras')`. \n"
     ]
    },
    {
     "name": "stdout",
     "output_type": "stream",
     "text": [
      "Model has been converted and saved to models\\model.weights.h5\n"
     ]
    }
   ],
   "source": [
    "import tensorflow as tf\n",
    "import keras\n",
    "import os\n",
    "\n",
    "# Set the path to your checkpoint files\n",
    "checkpoint_dir = 'models'\n",
    "checkpoint_path = os.path.join(checkpoint_dir, 'checkpoint')\n",
    "\n",
    "# Define your model architecture to match the input shape\n",
    "def create_model():\n",
    "    model = keras.Sequential([\n",
    "        keras.layers.Conv3D(32, kernel_size=(3, 3, 3), activation='relu', input_shape=(75, 46, 140, 1)),\n",
    "        keras.layers.MaxPooling3D(pool_size=(2, 2, 2)),\n",
    "        keras.layers.Conv3D(64, kernel_size=(3, 3, 3), activation='relu'),\n",
    "        keras.layers.MaxPooling3D(pool_size=(2, 2, 2)),\n",
    "        keras.layers.Flatten(),\n",
    "        keras.layers.Dense(64, activation='relu'),\n",
    "        keras.layers.Dense(10, activation='softmax')  # Adjust the output size if needed\n",
    "    ])\n",
    "    return model\n",
    "\n",
    "# Create a model instance\n",
    "model = create_model()\n",
    "\n",
    "# Create a checkpoint instance\n",
    "ckpt = tf.train.Checkpoint(model=model)\n",
    "\n",
    "# Restore the weights\n",
    "ckpt.restore(tf.train.latest_checkpoint(checkpoint_dir)).expect_partial()\n",
    "\n",
    "# Save the model in H5 format\n",
    "h5_path = os.path.join(checkpoint_dir, 'model.weights.h5')\n",
    "model.save(h5_path, save_format='h5')\n",
    "\n",
    "print(f\"Model has been converted and saved to {h5_path}\")\n",
    "\n",
    "# Example of how to use the model for prediction\n",
    "def predict(model, sample):\n",
    "    yhat = model.predict(sample)\n",
    "    return yhat\n",
    "\n",
    "# Assuming 'sample' is your input data\n",
    "# sample = ...  # Your input data here\n",
    "# prediction = predict(model, sample)\n",
    "# print(prediction)\n"
   ]
  },
  {
   "cell_type": "code",
   "execution_count": 2,
   "id": "46c807b9-03aa-4efc-a08a-5b4e899e0f02",
   "metadata": {},
   "outputs": [],
   "source": [
    "model.save_weights('models/model.weights.h5')"
   ]
  },
  {
   "cell_type": "code",
   "execution_count": 3,
   "id": "c1d5cb85-41f6-4fdb-9eca-9062f63593e8",
   "metadata": {},
   "outputs": [],
   "source": [
    "model.load_weights('models/model.weights.h5')\n"
   ]
  },
  {
   "cell_type": "code",
   "execution_count": 53,
   "id": "e17cde3b-56e5-4723-bc26-bcd46d685b54",
   "metadata": {},
   "outputs": [],
   "source": [
    "test_data = test.as_numpy_iterator()"
   ]
  },
  {
   "cell_type": "code",
   "execution_count": null,
   "id": "4e0e544d-1d60-491e-8305-425725d5adca",
   "metadata": {},
   "outputs": [],
   "source": [
    "sample = test_data.next()"
   ]
  },
  {
   "cell_type": "code",
   "execution_count": null,
   "id": "e744238b-5c9e-491c-b38e-321217395629",
   "metadata": {},
   "outputs": [],
   "source": [
    "yhat = model.predict(sample[0])"
   ]
  },
  {
   "cell_type": "code",
   "execution_count": null,
   "id": "ec5e046f-c473-41e7-841c-82c04153f958",
   "metadata": {},
   "outputs": [],
   "source": [
    "print('~'*100, 'REAL TEXT')\n",
    "[tf.strings.reduce_join([num_to_char(word) for word in sentence]) for sentence in sample[1]]"
   ]
  },
  {
   "cell_type": "code",
   "execution_count": null,
   "id": "55616afd-bd4f-4fd4-b705-794f42492edc",
   "metadata": {},
   "outputs": [],
   "source": [
    "decoded = tf.keras.backend.ctc_decode(yhat, input_length=[75,75], greedy=True)[0][0].numpy()\n"
   ]
  },
  {
   "cell_type": "code",
   "execution_count": null,
   "id": "8fcf26e2-b670-4132-b193-b0187971d8ee",
   "metadata": {},
   "outputs": [],
   "source": [
    "print('~'*100, 'PREDICTIONS')\n",
    "[tf.strings.reduce_join([num_to_char(word) for word in sentence]) for sentence in decoded]"
   ]
  },
  {
   "cell_type": "code",
   "execution_count": 28,
   "id": "ee5a5f35-b3c1-4296-94e6-bb3affcc91cd",
   "metadata": {},
   "outputs": [],
   "source": [
    "sample = load_data(tf.convert_to_tensor('.\\\\data\\\\s1\\\\bras9a.mpg'))"
   ]
  },
  {
   "cell_type": "code",
   "execution_count": 29,
   "id": "215c78c9-0b1f-42af-95f3-c1d9a65f6f45",
   "metadata": {},
   "outputs": [
    {
     "name": "stdout",
     "output_type": "stream",
     "text": [
      "~~~~~~~~~~~~~~~~~~~~~~~~~~~~~~~~~~~~~~~~~~~~~~~~~~~~~~~~~~~~~~~~~~~~~~~~~~~~~~~~~~~~~~~~~~~~~~~~~~~~ REAL TEXT\n"
     ]
    },
    {
     "data": {
      "text/plain": [
       "[<tf.Tensor: shape=(), dtype=string, numpy=b'bin red at s nine again'>]"
      ]
     },
     "execution_count": 29,
     "metadata": {},
     "output_type": "execute_result"
    }
   ],
   "source": [
    "print('~'*100, 'REAL TEXT')\n",
    "[tf.strings.reduce_join([num_to_char(word) for word in sentence]) for sentence in [sample[1]]]"
   ]
  },
  {
   "cell_type": "code",
   "execution_count": 30,
   "id": "b1115980-5c9e-444b-af3d-b278af326387",
   "metadata": {},
   "outputs": [
    {
     "name": "stdout",
     "output_type": "stream",
     "text": [
      "\u001b[1m1/1\u001b[0m \u001b[32m━━━━━━━━━━━━━━━━━━━━\u001b[0m\u001b[37m\u001b[0m \u001b[1m0s\u001b[0m 230ms/step\n"
     ]
    }
   ],
   "source": [
    "yhat = model.predict(tf.expand_dims(sample[0], axis=0))"
   ]
  },
  {
   "cell_type": "code",
   "execution_count": 32,
   "id": "d285b05f-750b-4c3c-9a3d-ad57674ed315",
   "metadata": {},
   "outputs": [
    {
     "ename": "InvalidArgumentError",
     "evalue": "{{function_node __wrapped__Transpose_device_/job:localhost/replica:0/task:0/device:CPU:0}} transpose expects a vector of size 2. But input(1) is a vector of size 3 [Op:Transpose]",
     "output_type": "error",
     "traceback": [
      "\u001b[1;31m---------------------------------------------------------------------------\u001b[0m",
      "\u001b[1;31mInvalidArgumentError\u001b[0m                      Traceback (most recent call last)",
      "Cell \u001b[1;32mIn[32], line 4\u001b[0m\n\u001b[0;32m      1\u001b[0m \u001b[38;5;28;01mimport\u001b[39;00m \u001b[38;5;21;01mtensorflow\u001b[39;00m \u001b[38;5;28;01mas\u001b[39;00m \u001b[38;5;21;01mtf\u001b[39;00m\n\u001b[0;32m      3\u001b[0m \u001b[38;5;66;03m# Assuming yhat has shape (batch_size, time_steps, num_classes)\u001b[39;00m\n\u001b[1;32m----> 4\u001b[0m yhat_transposed \u001b[38;5;241m=\u001b[39m tf\u001b[38;5;241m.\u001b[39mtranspose(yhat, perm\u001b[38;5;241m=\u001b[39m[\u001b[38;5;241m1\u001b[39m, \u001b[38;5;241m0\u001b[39m, \u001b[38;5;241m2\u001b[39m])\n\u001b[0;32m      6\u001b[0m decoded \u001b[38;5;241m=\u001b[39m tf\u001b[38;5;241m.\u001b[39mkeras\u001b[38;5;241m.\u001b[39mbackend\u001b[38;5;241m.\u001b[39mctc_decode(\n\u001b[0;32m      7\u001b[0m     yhat_transposed, \n\u001b[0;32m      8\u001b[0m     input_length\u001b[38;5;241m=\u001b[39m[\u001b[38;5;241m75\u001b[39m], \n\u001b[0;32m      9\u001b[0m     greedy\u001b[38;5;241m=\u001b[39m\u001b[38;5;28;01mTrue\u001b[39;00m\n\u001b[0;32m     10\u001b[0m )[\u001b[38;5;241m0\u001b[39m][\u001b[38;5;241m0\u001b[39m]\u001b[38;5;241m.\u001b[39mnumpy()\n",
      "File \u001b[1;32m~\\anaconda3\\Lib\\site-packages\\tensorflow\\python\\ops\\weak_tensor_ops.py:88\u001b[0m, in \u001b[0;36mweak_tensor_unary_op_wrapper.<locals>.wrapper\u001b[1;34m(*args, **kwargs)\u001b[0m\n\u001b[0;32m     86\u001b[0m \u001b[38;5;28;01mdef\u001b[39;00m \u001b[38;5;21mwrapper\u001b[39m(\u001b[38;5;241m*\u001b[39margs, \u001b[38;5;241m*\u001b[39m\u001b[38;5;241m*\u001b[39mkwargs):\n\u001b[0;32m     87\u001b[0m   \u001b[38;5;28;01mif\u001b[39;00m \u001b[38;5;129;01mnot\u001b[39;00m ops\u001b[38;5;241m.\u001b[39mis_auto_dtype_conversion_enabled():\n\u001b[1;32m---> 88\u001b[0m     \u001b[38;5;28;01mreturn\u001b[39;00m op(\u001b[38;5;241m*\u001b[39margs, \u001b[38;5;241m*\u001b[39m\u001b[38;5;241m*\u001b[39mkwargs)\n\u001b[0;32m     89\u001b[0m   bound_arguments \u001b[38;5;241m=\u001b[39m signature\u001b[38;5;241m.\u001b[39mbind(\u001b[38;5;241m*\u001b[39margs, \u001b[38;5;241m*\u001b[39m\u001b[38;5;241m*\u001b[39mkwargs)\n\u001b[0;32m     90\u001b[0m   bound_arguments\u001b[38;5;241m.\u001b[39mapply_defaults()\n",
      "File \u001b[1;32m~\\anaconda3\\Lib\\site-packages\\tensorflow\\python\\util\\traceback_utils.py:153\u001b[0m, in \u001b[0;36mfilter_traceback.<locals>.error_handler\u001b[1;34m(*args, **kwargs)\u001b[0m\n\u001b[0;32m    151\u001b[0m \u001b[38;5;28;01mexcept\u001b[39;00m \u001b[38;5;167;01mException\u001b[39;00m \u001b[38;5;28;01mas\u001b[39;00m e:\n\u001b[0;32m    152\u001b[0m   filtered_tb \u001b[38;5;241m=\u001b[39m _process_traceback_frames(e\u001b[38;5;241m.\u001b[39m__traceback__)\n\u001b[1;32m--> 153\u001b[0m   \u001b[38;5;28;01mraise\u001b[39;00m e\u001b[38;5;241m.\u001b[39mwith_traceback(filtered_tb) \u001b[38;5;28;01mfrom\u001b[39;00m \u001b[38;5;28;01mNone\u001b[39;00m\n\u001b[0;32m    154\u001b[0m \u001b[38;5;28;01mfinally\u001b[39;00m:\n\u001b[0;32m    155\u001b[0m   \u001b[38;5;28;01mdel\u001b[39;00m filtered_tb\n",
      "File \u001b[1;32m~\\anaconda3\\Lib\\site-packages\\tensorflow\\python\\eager\\execute.py:53\u001b[0m, in \u001b[0;36mquick_execute\u001b[1;34m(op_name, num_outputs, inputs, attrs, ctx, name)\u001b[0m\n\u001b[0;32m     51\u001b[0m \u001b[38;5;28;01mtry\u001b[39;00m:\n\u001b[0;32m     52\u001b[0m   ctx\u001b[38;5;241m.\u001b[39mensure_initialized()\n\u001b[1;32m---> 53\u001b[0m   tensors \u001b[38;5;241m=\u001b[39m pywrap_tfe\u001b[38;5;241m.\u001b[39mTFE_Py_Execute(ctx\u001b[38;5;241m.\u001b[39m_handle, device_name, op_name,\n\u001b[0;32m     54\u001b[0m                                       inputs, attrs, num_outputs)\n\u001b[0;32m     55\u001b[0m \u001b[38;5;28;01mexcept\u001b[39;00m core\u001b[38;5;241m.\u001b[39m_NotOkStatusException \u001b[38;5;28;01mas\u001b[39;00m e:\n\u001b[0;32m     56\u001b[0m   \u001b[38;5;28;01mif\u001b[39;00m name \u001b[38;5;129;01mis\u001b[39;00m \u001b[38;5;129;01mnot\u001b[39;00m \u001b[38;5;28;01mNone\u001b[39;00m:\n",
      "\u001b[1;31mInvalidArgumentError\u001b[0m: {{function_node __wrapped__Transpose_device_/job:localhost/replica:0/task:0/device:CPU:0}} transpose expects a vector of size 2. But input(1) is a vector of size 3 [Op:Transpose]"
     ]
    }
   ],
   "source": [
    "import tensorflow as tf\n",
    "\n",
    "# Assuming yhat has shape (batch_size, time_steps, num_classes)\n",
    "yhat_transposed = tf.transpose(yhat, perm=[1, 0, 2])\n",
    "\n",
    "decoded = tf.keras.backend.ctc_decode(\n",
    "    yhat_transposed, \n",
    "    input_length=[75], \n",
    "    greedy=True\n",
    ")[0][0].numpy()"
   ]
  },
  {
   "cell_type": "code",
   "execution_count": 34,
   "id": "cc70c013-d284-4e6e-95ed-7123dda8af1e",
   "metadata": {},
   "outputs": [
    {
     "ename": "InvalidArgumentError",
     "evalue": "{{function_node __wrapped__Transpose_device_/job:localhost/replica:0/task:0/device:CPU:0}} transpose expects a vector of size 2. But input(1) is a vector of size 3 [Op:Transpose]",
     "output_type": "error",
     "traceback": [
      "\u001b[1;31m---------------------------------------------------------------------------\u001b[0m",
      "\u001b[1;31mInvalidArgumentError\u001b[0m                      Traceback (most recent call last)",
      "Cell \u001b[1;32mIn[34], line 1\u001b[0m\n\u001b[1;32m----> 1\u001b[0m yhat_transposed \u001b[38;5;241m=\u001b[39m tf\u001b[38;5;241m.\u001b[39mtranspose(yhat, perm\u001b[38;5;241m=\u001b[39m[\u001b[38;5;241m1\u001b[39m, \u001b[38;5;241m0\u001b[39m, \u001b[38;5;241m2\u001b[39m])\n",
      "File \u001b[1;32m~\\anaconda3\\Lib\\site-packages\\tensorflow\\python\\ops\\weak_tensor_ops.py:88\u001b[0m, in \u001b[0;36mweak_tensor_unary_op_wrapper.<locals>.wrapper\u001b[1;34m(*args, **kwargs)\u001b[0m\n\u001b[0;32m     86\u001b[0m \u001b[38;5;28;01mdef\u001b[39;00m \u001b[38;5;21mwrapper\u001b[39m(\u001b[38;5;241m*\u001b[39margs, \u001b[38;5;241m*\u001b[39m\u001b[38;5;241m*\u001b[39mkwargs):\n\u001b[0;32m     87\u001b[0m   \u001b[38;5;28;01mif\u001b[39;00m \u001b[38;5;129;01mnot\u001b[39;00m ops\u001b[38;5;241m.\u001b[39mis_auto_dtype_conversion_enabled():\n\u001b[1;32m---> 88\u001b[0m     \u001b[38;5;28;01mreturn\u001b[39;00m op(\u001b[38;5;241m*\u001b[39margs, \u001b[38;5;241m*\u001b[39m\u001b[38;5;241m*\u001b[39mkwargs)\n\u001b[0;32m     89\u001b[0m   bound_arguments \u001b[38;5;241m=\u001b[39m signature\u001b[38;5;241m.\u001b[39mbind(\u001b[38;5;241m*\u001b[39margs, \u001b[38;5;241m*\u001b[39m\u001b[38;5;241m*\u001b[39mkwargs)\n\u001b[0;32m     90\u001b[0m   bound_arguments\u001b[38;5;241m.\u001b[39mapply_defaults()\n",
      "File \u001b[1;32m~\\anaconda3\\Lib\\site-packages\\tensorflow\\python\\util\\traceback_utils.py:153\u001b[0m, in \u001b[0;36mfilter_traceback.<locals>.error_handler\u001b[1;34m(*args, **kwargs)\u001b[0m\n\u001b[0;32m    151\u001b[0m \u001b[38;5;28;01mexcept\u001b[39;00m \u001b[38;5;167;01mException\u001b[39;00m \u001b[38;5;28;01mas\u001b[39;00m e:\n\u001b[0;32m    152\u001b[0m   filtered_tb \u001b[38;5;241m=\u001b[39m _process_traceback_frames(e\u001b[38;5;241m.\u001b[39m__traceback__)\n\u001b[1;32m--> 153\u001b[0m   \u001b[38;5;28;01mraise\u001b[39;00m e\u001b[38;5;241m.\u001b[39mwith_traceback(filtered_tb) \u001b[38;5;28;01mfrom\u001b[39;00m \u001b[38;5;28;01mNone\u001b[39;00m\n\u001b[0;32m    154\u001b[0m \u001b[38;5;28;01mfinally\u001b[39;00m:\n\u001b[0;32m    155\u001b[0m   \u001b[38;5;28;01mdel\u001b[39;00m filtered_tb\n",
      "File \u001b[1;32m~\\anaconda3\\Lib\\site-packages\\tensorflow\\python\\eager\\execute.py:53\u001b[0m, in \u001b[0;36mquick_execute\u001b[1;34m(op_name, num_outputs, inputs, attrs, ctx, name)\u001b[0m\n\u001b[0;32m     51\u001b[0m \u001b[38;5;28;01mtry\u001b[39;00m:\n\u001b[0;32m     52\u001b[0m   ctx\u001b[38;5;241m.\u001b[39mensure_initialized()\n\u001b[1;32m---> 53\u001b[0m   tensors \u001b[38;5;241m=\u001b[39m pywrap_tfe\u001b[38;5;241m.\u001b[39mTFE_Py_Execute(ctx\u001b[38;5;241m.\u001b[39m_handle, device_name, op_name,\n\u001b[0;32m     54\u001b[0m                                       inputs, attrs, num_outputs)\n\u001b[0;32m     55\u001b[0m \u001b[38;5;28;01mexcept\u001b[39;00m core\u001b[38;5;241m.\u001b[39m_NotOkStatusException \u001b[38;5;28;01mas\u001b[39;00m e:\n\u001b[0;32m     56\u001b[0m   \u001b[38;5;28;01mif\u001b[39;00m name \u001b[38;5;129;01mis\u001b[39;00m \u001b[38;5;129;01mnot\u001b[39;00m \u001b[38;5;28;01mNone\u001b[39;00m:\n",
      "\u001b[1;31mInvalidArgumentError\u001b[0m: {{function_node __wrapped__Transpose_device_/job:localhost/replica:0/task:0/device:CPU:0}} transpose expects a vector of size 2. But input(1) is a vector of size 3 [Op:Transpose]"
     ]
    }
   ],
   "source": [
    "yhat_transposed = tf.transpose(yhat, perm=[1, 0, 2])"
   ]
  },
  {
   "cell_type": "code",
   "execution_count": 33,
   "id": "cd0a0d91-00b8-459a-8aab-93637d6aa450",
   "metadata": {},
   "outputs": [
    {
     "name": "stdout",
     "output_type": "stream",
     "text": [
      "yhat shape: tf.Tensor([ 1 10], shape=(2,), dtype=int32)\n"
     ]
    },
    {
     "ename": "NameError",
     "evalue": "name 'yhat_transposed' is not defined",
     "output_type": "error",
     "traceback": [
      "\u001b[1;31m---------------------------------------------------------------------------\u001b[0m",
      "\u001b[1;31mNameError\u001b[0m                                 Traceback (most recent call last)",
      "Cell \u001b[1;32mIn[33], line 2\u001b[0m\n\u001b[0;32m      1\u001b[0m \u001b[38;5;28mprint\u001b[39m(\u001b[38;5;124m\"\u001b[39m\u001b[38;5;124myhat shape:\u001b[39m\u001b[38;5;124m\"\u001b[39m, tf\u001b[38;5;241m.\u001b[39mshape(yhat))\n\u001b[1;32m----> 2\u001b[0m \u001b[38;5;28mprint\u001b[39m(\u001b[38;5;124m\"\u001b[39m\u001b[38;5;124myhat_transposed shape:\u001b[39m\u001b[38;5;124m\"\u001b[39m, tf\u001b[38;5;241m.\u001b[39mshape(yhat_transposed))\n",
      "\u001b[1;31mNameError\u001b[0m: name 'yhat_transposed' is not defined"
     ]
    }
   ],
   "source": [
    "print(\"yhat shape:\", tf.shape(yhat))\n",
    "print(\"yhat_transposed shape:\", tf.shape(yhat_transposed))"
   ]
  },
  {
   "cell_type": "code",
   "execution_count": 31,
   "id": "c34ade3f-c69d-4e7a-a886-8bb77b531ef7",
   "metadata": {},
   "outputs": [
    {
     "ename": "InvalidArgumentError",
     "evalue": "{{function_node __wrapped__Transpose_device_/job:localhost/replica:0/task:0/device:CPU:0}} transpose expects a vector of size 2. But input(1) is a vector of size 3 [Op:Transpose]",
     "output_type": "error",
     "traceback": [
      "\u001b[1;31m---------------------------------------------------------------------------\u001b[0m",
      "\u001b[1;31mInvalidArgumentError\u001b[0m                      Traceback (most recent call last)",
      "Cell \u001b[1;32mIn[31], line 1\u001b[0m\n\u001b[1;32m----> 1\u001b[0m decoded \u001b[38;5;241m=\u001b[39m tf\u001b[38;5;241m.\u001b[39mkeras\u001b[38;5;241m.\u001b[39mbackend\u001b[38;5;241m.\u001b[39mctc_decode(yhat, input_length\u001b[38;5;241m=\u001b[39m[\u001b[38;5;241m75\u001b[39m], greedy\u001b[38;5;241m=\u001b[39m\u001b[38;5;28;01mTrue\u001b[39;00m)[\u001b[38;5;241m0\u001b[39m][\u001b[38;5;241m0\u001b[39m]\u001b[38;5;241m.\u001b[39mnumpy()\n",
      "File \u001b[1;32m~\\anaconda3\\Lib\\site-packages\\keras\\src\\legacy\\backend.py:720\u001b[0m, in \u001b[0;36mctc_decode\u001b[1;34m(y_pred, input_length, greedy, beam_width, top_paths)\u001b[0m\n\u001b[0;32m    717\u001b[0m input_shape \u001b[38;5;241m=\u001b[39m tf\u001b[38;5;241m.\u001b[39mshape(y_pred)\n\u001b[0;32m    718\u001b[0m num_samples, num_steps \u001b[38;5;241m=\u001b[39m input_shape[\u001b[38;5;241m0\u001b[39m], input_shape[\u001b[38;5;241m1\u001b[39m]\n\u001b[0;32m    719\u001b[0m y_pred \u001b[38;5;241m=\u001b[39m tf\u001b[38;5;241m.\u001b[39mmath\u001b[38;5;241m.\u001b[39mlog(\n\u001b[1;32m--> 720\u001b[0m     tf\u001b[38;5;241m.\u001b[39mtranspose(y_pred, perm\u001b[38;5;241m=\u001b[39m[\u001b[38;5;241m1\u001b[39m, \u001b[38;5;241m0\u001b[39m, \u001b[38;5;241m2\u001b[39m]) \u001b[38;5;241m+\u001b[39m backend\u001b[38;5;241m.\u001b[39mepsilon()\n\u001b[0;32m    721\u001b[0m )\n\u001b[0;32m    722\u001b[0m input_length \u001b[38;5;241m=\u001b[39m tf\u001b[38;5;241m.\u001b[39mcast(input_length, tf\u001b[38;5;241m.\u001b[39mint32)\n\u001b[0;32m    724\u001b[0m \u001b[38;5;28;01mif\u001b[39;00m greedy:\n",
      "File \u001b[1;32m~\\anaconda3\\Lib\\site-packages\\tensorflow\\python\\ops\\weak_tensor_ops.py:88\u001b[0m, in \u001b[0;36mweak_tensor_unary_op_wrapper.<locals>.wrapper\u001b[1;34m(*args, **kwargs)\u001b[0m\n\u001b[0;32m     86\u001b[0m \u001b[38;5;28;01mdef\u001b[39;00m \u001b[38;5;21mwrapper\u001b[39m(\u001b[38;5;241m*\u001b[39margs, \u001b[38;5;241m*\u001b[39m\u001b[38;5;241m*\u001b[39mkwargs):\n\u001b[0;32m     87\u001b[0m   \u001b[38;5;28;01mif\u001b[39;00m \u001b[38;5;129;01mnot\u001b[39;00m ops\u001b[38;5;241m.\u001b[39mis_auto_dtype_conversion_enabled():\n\u001b[1;32m---> 88\u001b[0m     \u001b[38;5;28;01mreturn\u001b[39;00m op(\u001b[38;5;241m*\u001b[39margs, \u001b[38;5;241m*\u001b[39m\u001b[38;5;241m*\u001b[39mkwargs)\n\u001b[0;32m     89\u001b[0m   bound_arguments \u001b[38;5;241m=\u001b[39m signature\u001b[38;5;241m.\u001b[39mbind(\u001b[38;5;241m*\u001b[39margs, \u001b[38;5;241m*\u001b[39m\u001b[38;5;241m*\u001b[39mkwargs)\n\u001b[0;32m     90\u001b[0m   bound_arguments\u001b[38;5;241m.\u001b[39mapply_defaults()\n",
      "File \u001b[1;32m~\\anaconda3\\Lib\\site-packages\\tensorflow\\python\\util\\traceback_utils.py:153\u001b[0m, in \u001b[0;36mfilter_traceback.<locals>.error_handler\u001b[1;34m(*args, **kwargs)\u001b[0m\n\u001b[0;32m    151\u001b[0m \u001b[38;5;28;01mexcept\u001b[39;00m \u001b[38;5;167;01mException\u001b[39;00m \u001b[38;5;28;01mas\u001b[39;00m e:\n\u001b[0;32m    152\u001b[0m   filtered_tb \u001b[38;5;241m=\u001b[39m _process_traceback_frames(e\u001b[38;5;241m.\u001b[39m__traceback__)\n\u001b[1;32m--> 153\u001b[0m   \u001b[38;5;28;01mraise\u001b[39;00m e\u001b[38;5;241m.\u001b[39mwith_traceback(filtered_tb) \u001b[38;5;28;01mfrom\u001b[39;00m \u001b[38;5;28;01mNone\u001b[39;00m\n\u001b[0;32m    154\u001b[0m \u001b[38;5;28;01mfinally\u001b[39;00m:\n\u001b[0;32m    155\u001b[0m   \u001b[38;5;28;01mdel\u001b[39;00m filtered_tb\n",
      "File \u001b[1;32m~\\anaconda3\\Lib\\site-packages\\tensorflow\\python\\eager\\execute.py:53\u001b[0m, in \u001b[0;36mquick_execute\u001b[1;34m(op_name, num_outputs, inputs, attrs, ctx, name)\u001b[0m\n\u001b[0;32m     51\u001b[0m \u001b[38;5;28;01mtry\u001b[39;00m:\n\u001b[0;32m     52\u001b[0m   ctx\u001b[38;5;241m.\u001b[39mensure_initialized()\n\u001b[1;32m---> 53\u001b[0m   tensors \u001b[38;5;241m=\u001b[39m pywrap_tfe\u001b[38;5;241m.\u001b[39mTFE_Py_Execute(ctx\u001b[38;5;241m.\u001b[39m_handle, device_name, op_name,\n\u001b[0;32m     54\u001b[0m                                       inputs, attrs, num_outputs)\n\u001b[0;32m     55\u001b[0m \u001b[38;5;28;01mexcept\u001b[39;00m core\u001b[38;5;241m.\u001b[39m_NotOkStatusException \u001b[38;5;28;01mas\u001b[39;00m e:\n\u001b[0;32m     56\u001b[0m   \u001b[38;5;28;01mif\u001b[39;00m name \u001b[38;5;129;01mis\u001b[39;00m \u001b[38;5;129;01mnot\u001b[39;00m \u001b[38;5;28;01mNone\u001b[39;00m:\n",
      "\u001b[1;31mInvalidArgumentError\u001b[0m: {{function_node __wrapped__Transpose_device_/job:localhost/replica:0/task:0/device:CPU:0}} transpose expects a vector of size 2. But input(1) is a vector of size 3 [Op:Transpose]"
     ]
    }
   ],
   "source": [
    "decoded = tf.keras.backend.ctc_decode(yhat, input_length=[75], greedy=True)[0][0].numpy()"
   ]
  },
  {
   "cell_type": "code",
   "execution_count": 35,
   "id": "3be4eb3b-3641-49e1-b4c8-37815e641269",
   "metadata": {},
   "outputs": [
    {
     "name": "stdout",
     "output_type": "stream",
     "text": [
      "~~~~~~~~~~~~~~~~~~~~~~~~~~~~~~~~~~~~~~~~~~~~~~~~~~~~~~~~~~~~~~~~~~~~~~~~~~~~~~~~~~~~~~~~~~~~~~~~~~~~ PREDICTIONS\n"
     ]
    },
    {
     "ename": "NameError",
     "evalue": "name 'decoded' is not defined",
     "output_type": "error",
     "traceback": [
      "\u001b[1;31m---------------------------------------------------------------------------\u001b[0m",
      "\u001b[1;31mNameError\u001b[0m                                 Traceback (most recent call last)",
      "Cell \u001b[1;32mIn[35], line 2\u001b[0m\n\u001b[0;32m      1\u001b[0m \u001b[38;5;28mprint\u001b[39m(\u001b[38;5;124m'\u001b[39m\u001b[38;5;124m~\u001b[39m\u001b[38;5;124m'\u001b[39m\u001b[38;5;241m*\u001b[39m\u001b[38;5;241m100\u001b[39m, \u001b[38;5;124m'\u001b[39m\u001b[38;5;124mPREDICTIONS\u001b[39m\u001b[38;5;124m'\u001b[39m)\n\u001b[1;32m----> 2\u001b[0m [tf\u001b[38;5;241m.\u001b[39mstrings\u001b[38;5;241m.\u001b[39mreduce_join([num_to_char(word) \u001b[38;5;28;01mfor\u001b[39;00m word \u001b[38;5;129;01min\u001b[39;00m sentence]) \u001b[38;5;28;01mfor\u001b[39;00m sentence \u001b[38;5;129;01min\u001b[39;00m decoded]\n",
      "\u001b[1;31mNameError\u001b[0m: name 'decoded' is not defined"
     ]
    }
   ],
   "source": [
    "print('~'*100, 'PREDICTIONS')\n",
    "[tf.strings.reduce_join([num_to_char(word) for word in sentence]) for sentence in decoded]"
   ]
  },
  {
   "cell_type": "code",
   "execution_count": null,
   "id": "4505d33a-e6cc-456a-a971-549667dac800",
   "metadata": {},
   "outputs": [],
   "source": []
  }
 ],
 "metadata": {
  "kernelspec": {
   "display_name": "Python 3 (ipykernel)",
   "language": "python",
   "name": "python3"
  },
  "language_info": {
   "codemirror_mode": {
    "name": "ipython",
    "version": 3
   },
   "file_extension": ".py",
   "mimetype": "text/x-python",
   "name": "python",
   "nbconvert_exporter": "python",
   "pygments_lexer": "ipython3",
   "version": "3.11.7"
  }
 },
 "nbformat": 4,
 "nbformat_minor": 5
}
